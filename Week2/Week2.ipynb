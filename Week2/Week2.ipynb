{
 "cells": [
  {
   "cell_type": "markdown",
   "metadata": {},
   "source": [
    "# Assignment 1\n",
    "\n",
    "The goal of this assignment is to supply you with the **building blocks** of **neural networks** (NNs). In this notebook, we will cover the main aspects of NNs, such as **Backpropagation** and **Optimization Methods**. All mathematical operations should be implemented in **NumPy** only. \n",
    "\n",
    "The assignmnent consist of two parts:\n",
    "* *Part one: Blocks* - the place where the main **building blocks** of the NNs are implemented by you\n",
    "* *Part two: Experiments* - a playground to train the models\n",
    "\n",
    "### Note\n",
    "Some of the concepts below have not (yet) been discussed during the lecture. These will be discussed further during the next lectures. "
   ]
  },
  {
   "cell_type": "markdown",
   "metadata": {},
   "source": [
    "## Table of contents\n",
    "\n",
    "\n",
    "* [0. Before you begin](#0.-Before-you-begin)\n",
    "\n",
    "Part one: Blocks\n",
    "\n",
    "* [1. Backpropagation](#1.-Backpropagation)   (mandatory)\n",
    "* [2. Dense layer](#2.-Dense-layer)   (mandatory)\n",
    "* [3. ReLU nonlinearity](#3.-ReLU-nonlinearity)   (mandatory)\n",
    "* [4. Sequential model](#4.-Sequential-model)\n",
    "* [5. Loss](#5.-Loss)   (mandatory)\n",
    "* [6. $L_2$ Regularization](#6.-$L_2$-Regularization)   (mandatory)\n",
    "* [7. Optimizer](#7.-Optimizer)\n",
    "* [8. Advanced blocks](#8.-Advanced-blocks)\n",
    "    * [8.1 Dropout](#8.1-Dropout)\n",
    "    * [8.2 MSE Loss](#8.2-MSE-Loss)\n",
    "    \n",
    "Part two: Experiments\n",
    "\n",
    "* [9. Circles Classification Task](#9.-Circles-Classification-Task)\n",
    "* [10. Digits Classification Task](#10.-Digits-Classification-Task)"
   ]
  },
  {
   "cell_type": "markdown",
   "metadata": {},
   "source": [
    "# 0. Before you begin\n",
    "\n",
    "To check whether the code you've written is correct, we'll use **automark**. For this, we created for each of you an account with the username being your student number. "
   ]
  },
  {
   "cell_type": "code",
   "execution_count": 86,
   "metadata": {},
   "outputs": [
    {
     "name": "stdout",
     "output_type": "stream",
     "text": [
      "---------------------------------------------\n",
      "| Dimitrios Tsimpoukis                      |\n",
      "| tsiboukisdim@gmail.com                    |\n",
      "---------------------------------------------\n",
      "| dense_forward            | completed      |\n",
      "| dense_grad_W             | completed      |\n",
      "| dense_grad_b             | completed      |\n",
      "| dense_grad_input         | completed      |\n",
      "| dropout_forward          | completed      |\n",
      "| dropout_grad_input       | completed      |\n",
      "| hinge_forward            | completed      |\n",
      "| hinge_grad_input         | completed      |\n",
      "| l2_regularizer           | completed      |\n",
      "| mse_forward              | completed      |\n",
      "| mse_grad_input           | completed      |\n",
      "| relu_forward             | completed      |\n",
      "| relu_grad_input          | completed      |\n",
      "---------------------------------------------\n"
     ]
    }
   ],
   "source": [
    "import automark as am\n",
    "\n",
    "# fill in you student number as your username\n",
    "username = '12338281'\n",
    "\n",
    "# to check your progress, you can run this function\n",
    "am.get_progress(12338281)"
   ]
  },
  {
   "cell_type": "markdown",
   "metadata": {},
   "source": [
    "So far all your tests are 'not attempted'. At the end of this notebook you'll need to have completed all except 5 tests. The other five will be for next week. At the end of this notebook the output of `am.get_progress(username)` should match the example below.\n",
    "\n",
    "```\n",
    "---------------------------------------------\n",
    "| Your name / student number                |\n",
    "| your_email@your_domain.whatever           |\n",
    "---------------------------------------------\n",
    "| box_blur                 | not attempted  |\n",
    "| conv_matrix              | not attempted  |\n",
    "| dense_forward            | completed      |\n",
    "| dense_grad_W             | completed      |\n",
    "| dense_grad_b             | completed      |\n",
    "| dense_grad_input         | completed      |\n",
    "| dropout_forward          | completed      |\n",
    "| dropout_grad_input       | completed      |\n",
    "| flatten_forward          | not attempted  |\n",
    "| flatten_grad_input       | not attempted  |\n",
    "| hinge_forward            | completed      |\n",
    "| hinge_grad_input         | completed      |\n",
    "| l2_regularizer           | completed      |\n",
    "| maxpool_forward          | not attempted  |\n",
    "| mse_forward              | completed      |\n",
    "| mse_grad_input           | completed      |\n",
    "| relu_forward             | completed      |\n",
    "| relu_grad_input          | completed      |\n",
    "---------------------------------------------\n",
    "```"
   ]
  },
  {
   "cell_type": "markdown",
   "metadata": {},
   "source": [
    "Next, we'll import the numpy library:"
   ]
  },
  {
   "cell_type": "code",
   "execution_count": 13,
   "metadata": {},
   "outputs": [],
   "source": [
    "from __future__ import print_function, absolute_import, division #You don't need to know what this is. \n",
    "import numpy as np #this imports numpy, which is used for vector- and matrix calculations"
   ]
  },
  {
   "cell_type": "markdown",
   "metadata": {},
   "source": [
    "This paragraph is optional and **solely informational**. \n",
    "\n",
    "This notebook makes use of **classes** and their **instances** that we have already implemented for you. It allows us to write less code and make it more readable. If you are interested in it, here are some useful links:\n",
    "* The official [documentation](https://docs.python.org/3/tutorial/classes.html) \n",
    "* Video by *sentdex*: [Object Oriented Programming Introduction](https://www.youtube.com/watch?v=ekA6hvk-8H8)\n",
    "* Antipatterns in OOP: [Stop Writing Classes](https://www.youtube.com/watch?v=o9pEzgHorH0)\n",
    "\n",
    "The interface of the current blocks is mostly inspired by **[Torch](http://torch.ch) / [PyTorch](http://pytorch.org)**. You can also take a look at the first implementation of [Keras](https://github.com/fchollet/keras/tree/37a1db225420851cc668600c49697d9a2057f098)"
   ]
  },
  {
   "cell_type": "markdown",
   "metadata": {},
   "source": [
    "# Part one: Blocks"
   ]
  },
  {
   "cell_type": "markdown",
   "metadata": {},
   "source": [
    "# 1. Backpropagation\n",
    "\n",
    "Neural networks consist of several layers. Each layer is a function of several parameters that we call weights: $h = f(x, w)$ where $h$ is the layer, $x$ is a vector of inputs and w is a vector of weights. \n",
    "In the neural network, the output of one layer is the input for the next layer. This means we can chain the different functions. The whole neural network $F$ then becomes a composition of different functions. \n",
    "$$\n",
    "F = f_k \\circ f_{k-1} \\circ \\dots \\ f_1\\\\\n",
    "h_1 = f_1(x, w_1)\\\\\n",
    "h_2 = f_2(h_1, w_2)\\\\\n",
    "\\dots \\\\\n",
    "\\dot{y} = f_k(h_{k-1}, w_k)\n",
    "$$\n",
    "In the above functions, $w_1$ and $w_2$ are different **weight vectors** that apply to the different layers $h_1$ and $h_2$. The weights of a neural network basically determine the effect certain outputs have on the next layer. (Please note: When searching for these terms on the internet, be aware that **weights** are sometimes called **parameters**, and $w$ is sometimes denoted as $\\theta$.) \n",
    "\n",
    "\n",
    "At the end of every neural network, there is a loss function. A loss function calculates for the performance of the Neural Network. The calculation of this score depends on the task at hand. For classification tasks the loss function would calculate the difference between prediction and the correct value. In this case the function is a summation of this difference for each data point. Calculating this difference can, again, be done in different ways. One example that we have discussed in class is the squared-loss for linear regression. (Here, the difference between predicted and correct classification is squared so positive and negative differences don't cancel eachother.) \n",
    "$$\\mathcal{L} = \\tfrac{1}{2}\\sum_{n = 1}^N (y_n - \\dot{y}_n)^2$$\n",
    "Here, $n$ denotes the different datapoints, $y_n$ and $\\dot{y}$ represent the correct and the predicted value for that data point respectively. \n",
    "\n",
    "\n",
    "\n",
    "The smaller the outcome of this loss function, the better the Neural Network predicts the data. Therefore, we concentrate on **minimizing the loss function** as a means for **training** the neural network. \n",
    "\n",
    "\n",
    "Training is done with [Gradient descent](https://en.wikipedia.org/wiki/Gradient_descent). Another word for **gradient** is **derivative**. We use derivatives to update the weights of the neural network to make better predictions. \n",
    "The weights of the $k$-th layer are updated according to the following scheme:\n",
    "$$\n",
    "w_k \\leftarrow w_k - \\gamma \\frac{\\partial \\mathcal{L}}{\\partial w_k} \n",
    "$$\n",
    "* $\\partial f(x)/\\partial x$ means the partial derivative of $f(x)$ with respect to $x$. On the internet, derivatives are sometimes written as $f'(x)$, $df/dx$, $\\Delta f/x$ or $\\nabla f/x$. (Some of these notations have slightly different meanings, but you can ignore that for now.) \n",
    "* Hyperparameter $\\gamma$ is called the *learning rate* (You'll learn more about hyperparameters later. For now, the only thing you'll have to know is that the value of a hyperparameter is set by you.) \n",
    "* Note that $k$ denotes a layer and $n$ denotes a data point.\n",
    "\n",
    "\n",
    "The computation of $\\partial \\mathcal{L}/\\partial w_k$ is done using the [chain rule](https://en.wikipedia.org/wiki/Chain_rule):\n",
    "$$\n",
    "\\frac{\\partial \\mathcal{L}}{\\partial w_k} = \n",
    "\\frac{\\partial \\mathcal{L}}{\\partial h_k}\n",
    "\\frac{\\partial h_k}{\\partial w_k} = \n",
    "\\frac{\\partial \\mathcal{L}}{\\partial h_{k+1}}\n",
    "\\frac{\\partial h_{k+1}}{\\partial h_k}\n",
    "\\frac{\\partial h_k}{\\partial w_k} = \\dots\n",
    "$$\n",
    "\n",
    "\n",
    "Therefore, for each layer, we can calculate the following expressions: \n",
    "* $h_k = f_k(h_{k-1}, w_k)$ - the forward pass\n",
    "* $\\partial h_{k}/\\partial h_{k-1}$ - the partial derivative of the output with respect to the input\n",
    "* $\\partial h_{k}/\\partial w_k$ - the partial derivative of the output with respect to the parameters\n",
    "\n",
    "\n",
    "This whole process of updating weights by calculating the gradient is called [Backpropagation](https://www.iro.umontreal.ca/~vincentp/ift3395/lectures/backprop_old.pdf). Click [here](https://www.youtube.com/watch?v=Ilg3gGewQ5U) for a pretty good video explaining backpropagation. "
   ]
  },
  {
   "cell_type": "markdown",
   "metadata": {},
   "source": [
    "# 2. Dense layer\n",
    "A dense Layer is the basic layer of a neural network. (Other terms for dense layer are fully-connected layer and multiplicative layer.) A dense layer transforms an input matrix of size `(n_objects, d_in)` to a matrix of size `(n_objects, d_out)` (where d stands for dimensions) by performing the following operation:\n",
    "$$\n",
    "H = XW + b\n",
    "$$\n",
    "Here $H$ represents the function of the dense layer, $X$ is the input matrix, $W$ is the weight matrix for this layer and $b$ is the bias. The bias $b$ is a vector. \n",
    "\n",
    "A more detailed version of this function is: \n",
    "$$\n",
    "H_{k,n} = \\sum\\limits_{i=1}^{d_{in}} X_{n,i}W_{i,k} + b_k\n",
    "$$\n",
    "where $n$ denotes again a single data object and $k$ the $k^{th}$ layer.\n",
    "\n",
    "**Example**: \n",
    "\n",
    "You have a neural network of just 1 layer. The inputs are points in a 3D space and you want to classify this point as either $-1$ or $1$. \n",
    "You have $75$ objects in your training set. \n",
    "\n",
    "Therefore, $X$ has shape $75 \\times 3$. $H$ has shape $75 \\times 1$. Weight $W$ of the layer has shape $3 \\times 1$. "
   ]
  },
  {
   "cell_type": "markdown",
   "metadata": {},
   "source": [
    "Using the input for a layer and producing its output is called a forward pass. Here, you'll implement the forward pass:  \n",
    "$$\n",
    "H = XW + b\n",
    "$$"
   ]
  },
  {
   "cell_type": "code",
   "execution_count": 14,
   "metadata": {},
   "outputs": [],
   "source": [
    "def dense_forward(x_input, W, b):\n",
    "    \"\"\"Perform the mapping of the input\n",
    "    # Arguments\n",
    "        x_input: input of a dense layer - np.array of size `(n_objects, n_in)`\n",
    "        W: np.array of size `(n_in, n_out)`\n",
    "        b: np.array of size `(n_out,)`\n",
    "    # Output\n",
    "        the output of a dense layer \n",
    "        np.array of size `(n_objects, b_out)`\n",
    "    \"\"\"\n",
    "    \n",
    "    output = (x_input @ W) + b\n",
    "    return output"
   ]
  },
  {
   "cell_type": "markdown",
   "metadata": {},
   "source": [
    "Let's check your first function. We set the matrices $X, W, b$:\n",
    "$$\n",
    "X = \\begin{bmatrix}\n",
    "1 & -1 \\\\\n",
    "-1 & 0 \\\\\n",
    "1 & 1 \\\\\n",
    "\\end{bmatrix} \\quad\n",
    "W = \\begin{bmatrix}\n",
    "4 \\\\\n",
    "2 \\\\\n",
    "\\end{bmatrix} \\quad\n",
    "b = \\begin{bmatrix}\n",
    "3 \\\\\n",
    "\\end{bmatrix}\n",
    "$$\n",
    "\n",
    "And then compute \n",
    "$$\n",
    "XW = \\begin{bmatrix}\n",
    "1 & -1 \\\\\n",
    "-1 & 0 \\\\\n",
    "1 & 1 \\\\\n",
    "\\end{bmatrix}\n",
    "\\begin{bmatrix}\n",
    "4 \\\\\n",
    "2 \\\\\n",
    "\\end{bmatrix} =\n",
    "\\begin{bmatrix}\n",
    "2 \\\\\n",
    "-4 \\\\\n",
    "6 \\\\\n",
    "\\end{bmatrix} \\\\\n",
    "XW + b = \n",
    "\\begin{bmatrix}\n",
    "5 \\\\\n",
    "-1 \\\\\n",
    "9 \\\\\n",
    "\\end{bmatrix} \n",
    "$$"
   ]
  },
  {
   "cell_type": "code",
   "execution_count": null,
   "metadata": {},
   "outputs": [],
   "source": [
    "X_test = np.array([[1, -1],\n",
    "                   [-1, 0],\n",
    "                   [1, 1]])\n",
    "\n",
    "W_test = np.array([[4],\n",
    "                   [2]])\n",
    "\n",
    "b_test = np.array([3])\n",
    "\n",
    "h_test =  dense_forward(X_test, W_test, b_test)\n",
    "print(h_test)"
   ]
  },
  {
   "cell_type": "code",
   "execution_count": null,
   "metadata": {
    "scrolled": false
   },
   "outputs": [],
   "source": [
    "am.test_student_function(username, dense_forward, ['x_input', 'W', 'b'])"
   ]
  },
  {
   "cell_type": "markdown",
   "metadata": {},
   "source": [
    "Now, you'll implement a backward pass. As decribed above, this is calculated with the gradient. To calculate the gradient, we'll use the chain rule: \n",
    "$$\n",
    "\\frac{\\partial \\mathcal{L}}{\\partial X} = \n",
    "\\frac{\\partial \\mathcal{L}}{\\partial H}\n",
    "\\frac{\\partial H}{\\partial X}\n",
    "$$"
   ]
  },
  {
   "cell_type": "code",
   "execution_count": 15,
   "metadata": {},
   "outputs": [],
   "source": [
    "def dense_grad_input(x_input, grad_output, W, b):\n",
    "    \"\"\"Calculate the partial derivative of \n",
    "        the loss with respect to the input of the layer\n",
    "    # Arguments\n",
    "        x_input: input of a dense layer - np.array of size `(n_objects, n_in)`\n",
    "        grad_output: partial derivative of the loss functions with \n",
    "            respect to the ouput of the dense layer `(thetaL/thetaH)`\n",
    "            np.array of size `(n_objects, n_out)`\n",
    "        W: np.array of size `(n_in, n_neurons_in_layer)`\n",
    "        b: np.array of size `(n_out,)`\n",
    "    # Output\n",
    "        the partial derivative of the loss with \n",
    "        respect to the input of the layer\n",
    "        np.array of size `(n_objects, n_in)`\n",
    "    \"\"\"\n",
    "    \n",
    "    \"\"\"The partial derivatives of the neuron functions with respect to the inputs\n",
    "    equal the weights that correspond to each connection (H = WX + b, no activation\n",
    "    yet). Matrix multiplication gives the direct result. Result must be of shape\n",
    "    (n_objects, n_in) which correspond to rows == observations, columns == features\"\"\"\n",
    "    \n",
    "    grad_input = grad_output @ np.transpose(W)\n",
    "    return grad_input"
   ]
  },
  {
   "cell_type": "code",
   "execution_count": 11,
   "metadata": {},
   "outputs": [
    {
     "ename": "NameError",
     "evalue": "name 'np' is not defined",
     "output_type": "error",
     "traceback": [
      "\u001b[0;31m---------------------------------------------------------------------------\u001b[0m",
      "\u001b[0;31mNameError\u001b[0m                                 Traceback (most recent call last)",
      "\u001b[0;32m<ipython-input-11-21e4cf29df32>\u001b[0m in \u001b[0;36m<module>\u001b[0;34m()\u001b[0m\n\u001b[0;32m----> 1\u001b[0;31m \u001b[0mx\u001b[0m \u001b[0;34m=\u001b[0m \u001b[0mnp\u001b[0m\u001b[0;34m.\u001b[0m\u001b[0marray\u001b[0m\u001b[0;34m(\u001b[0m\u001b[0;34m[\u001b[0m\u001b[0;34m[\u001b[0m \u001b[0;36m0.61582769\u001b[0m\u001b[0;34m,\u001b[0m  \u001b[0;36m1.65506874\u001b[0m\u001b[0;34m]\u001b[0m\u001b[0;34m]\u001b[0m\u001b[0;34m)\u001b[0m\u001b[0;34m\u001b[0m\u001b[0m\n\u001b[0m\u001b[1;32m      2\u001b[0m \u001b[0;34m\u001b[0m\u001b[0m\n\u001b[1;32m      3\u001b[0m W = np.array([[ 3.20968842,  1.49140623,  0.9146747,   2.77583707,  7.39069054, -8.87348835],\n\u001b[1;32m      4\u001b[0m  [ 4.62458646,  8.44564904,  9.29946712, -9.34486205,  4.98387295, -4.23473209]])\n\u001b[1;32m      5\u001b[0m \u001b[0;34m\u001b[0m\u001b[0m\n",
      "\u001b[0;31mNameError\u001b[0m: name 'np' is not defined"
     ]
    }
   ],
   "source": [
    "x = np.array([[ 0.61582769,  1.65506874]])\n",
    "\n",
    "W = np.array([[ 3.20968842,  1.49140623,  0.9146747,   2.77583707,  7.39069054, -8.87348835],\n",
    " [ 4.62458646,  8.44564904,  9.29946712, -9.34486205,  4.98387295, -4.23473209]])\n",
    "\n",
    "b = np.array([-6.58651715, -6.30543695, -2.20704323,  7.88893896,  1.72188198,  9.4243475 ])\n",
    "\n",
    "grad_output = np.array([ 9.95145598, -9.86050443, -3.68927191, -7.79275657,  4.37951425, -4.1501241 ])"
   ]
  },
  {
   "cell_type": "code",
   "execution_count": null,
   "metadata": {},
   "outputs": [],
   "source": [
    "am.test_student_function(username, dense_grad_input, ['x_input', 'grad_output', 'W', 'b'])"
   ]
  },
  {
   "cell_type": "markdown",
   "metadata": {},
   "source": [
    "Now, instead of computing the gradient with respect to the input, we'll calculate the gradient with respect to the weights and to the bias: \n",
    "$$\n",
    "\\frac{\\partial \\mathcal{L}}{\\partial W} = \n",
    "\\frac{\\partial \\mathcal{L}}{\\partial H}\n",
    "\\frac{\\partial H}{\\partial W} \\\\\n",
    "\\frac{\\partial \\mathcal{L}}{\\partial b} = \n",
    "\\frac{\\partial \\mathcal{L}}{\\partial H}\n",
    "\\frac{\\partial H}{\\partial b} \\\\\n",
    "$$"
   ]
  },
  {
   "cell_type": "code",
   "execution_count": 175,
   "metadata": {},
   "outputs": [],
   "source": [
    "def dense_grad_W(x_input, grad_output, W, b):\n",
    "    \"\"\"Calculate the partial derivative of \n",
    "        the loss with respect to W parameter of the layer\n",
    "    # Arguments\n",
    "        x_input: input of a dense layer - np.array of size `(n_objects, n_in)`\n",
    "        grad_output: partial derivative of the loss functions with \n",
    "            respect to the ouput of the dense layer \n",
    "            np.array of size `(n_objects, n_out)`\n",
    "        W: np.array of size `(n_in, n_out)`\n",
    "        b: np.array of size `(n_out,)`\n",
    "    # Output\n",
    "        the partial derivative of the loss \n",
    "        with respect to W parameter of the layer\n",
    "        np.array of size `(n_in, n_out)`\n",
    "    \"\"\"\n",
    "    #############\n",
    "    \"\"\" The partial derivatives of the neuron functions with respect to the weights\n",
    "    equal the x observation that correspond to each connection (H = WX + b, no activation\n",
    "    yet) \"\"\"\n",
    "    \n",
    "    grad_W = np.transpose(x_input) @ grad_output\n",
    "    return grad_W"
   ]
  },
  {
   "cell_type": "code",
   "execution_count": 182,
   "metadata": {},
   "outputs": [
    {
     "name": "stdout",
     "output_type": "stream",
     "text": [
      "Running local tests...\n",
      "dense_grad_W successfully passed local tests\n",
      "Running remote test...\n",
      "Test was successful. Congratulations!\n"
     ]
    }
   ],
   "source": [
    "am.test_student_function(username, dense_grad_W, ['x_input', 'grad_output', 'W', 'b'])"
   ]
  },
  {
   "cell_type": "code",
   "execution_count": 183,
   "metadata": {},
   "outputs": [
    {
     "data": {
      "text/plain": [
       "array([[-76.65032342, -65.7916452 , -52.06085519,  48.22096981,\n",
       "         38.39991109, -13.68533158],\n",
       "       [120.59718706,  68.15639706,  73.22731264, -58.39725477,\n",
       "        -43.89140589, -13.13039737]])"
      ]
     },
     "execution_count": 183,
     "metadata": {},
     "output_type": "execute_result"
    }
   ],
   "source": [
    "dense_grad_W(x, grad_out, X, b)"
   ]
  },
  {
   "cell_type": "code",
   "execution_count": 144,
   "metadata": {},
   "outputs": [],
   "source": [
    "def dense_grad_b(x_input, grad_output, W, b):\n",
    "    \"\"\"Calculate the partial derivative of \n",
    "        the loss with respect to b parameter of the layer\n",
    "    # Arguments\n",
    "        x_input: input of a dense layer - np.array of size `(n_objects, n_in)`\n",
    "        grad_output: partial derivative of the loss functions with \n",
    "            respect to the ouput of the dense layer \n",
    "            np.array of size `(n_objects, n_out)`\n",
    "        W: np.array of size `(n_in, n_out)`\n",
    "        b: np.array of size `(n_out,)`\n",
    "    # Output\n",
    "        the partial derivative of the loss \n",
    "        with respect to b parameter of the layer\n",
    "        np.array of size `(n_out,)`\n",
    "    \"\"\"\n",
    "    \n",
    "    #######\n",
    "    \"\"\"\n",
    "    The gradients of the neuron functions with respect to the weights always\n",
    "    result in the value of 1 for each training sample (H = WX + b)\n",
    "    \"\"\"\n",
    "    \n",
    "    grad_b = np.ones((1, x_input.shape[0])) @ grad_output \n",
    "    print(grad_b)\n",
    "    return grad_b"
   ]
  },
  {
   "cell_type": "code",
   "execution_count": 181,
   "metadata": {},
   "outputs": [
    {
     "data": {
      "text/plain": [
       "array([[ -6.08418717, -24.70655057, -19.18588712,  -4.94632066,\n",
       "         13.47798625,   0.79172081]])"
      ]
     },
     "execution_count": 181,
     "metadata": {},
     "output_type": "execute_result"
    }
   ],
   "source": [
    "dense_grad_b(x, grad_out, X, b)"
   ]
  },
  {
   "cell_type": "code",
   "execution_count": null,
   "metadata": {},
   "outputs": [],
   "source": [
    "am.test_student_function(username, dense_grad_b, ['x_input', 'grad_output', 'W', 'b'])"
   ]
  },
  {
   "cell_type": "code",
   "execution_count": null,
   "metadata": {},
   "outputs": [],
   "source": [
    "am.get_progress(username)"
   ]
  },
  {
   "cell_type": "markdown",
   "metadata": {},
   "source": [
    "## Dense Layer Class\n",
    "\n",
    "Here, we define a basic class for the dense layer. You will use this in the Experiments sections below. You don't need to know how this works; we implement it for you, but it is based on the functions you've written above. "
   ]
  },
  {
   "cell_type": "code",
   "execution_count": 17,
   "metadata": {},
   "outputs": [],
   "source": [
    "class Layer(object):\n",
    "    \n",
    "    def __init__(self):\n",
    "        self.training_phase = True\n",
    "        self.output = 0.0\n",
    "        \n",
    "    def forward(self, x_input):\n",
    "        self.output = x_input\n",
    "        return self.output\n",
    "    \n",
    "    def backward(self, x_input, grad_output):\n",
    "        return grad_output\n",
    "    \n",
    "    def get_params(self):\n",
    "        return []\n",
    "    \n",
    "    def get_params_gradients(self):\n",
    "        return []"
   ]
  },
  {
   "cell_type": "code",
   "execution_count": 18,
   "metadata": {},
   "outputs": [],
   "source": [
    "class Dense(Layer):\n",
    "    \n",
    "    def __init__(self, n_input, n_output):\n",
    "        super(Dense, self).__init__()\n",
    "        #Randomly initializing the weights from normal distribution\n",
    "        self.W = np.random.normal(size=(n_input, n_output))\n",
    "        self.grad_W = np.zeros_like(self.W)\n",
    "        #initializing the bias with zero\n",
    "        self.b = np.zeros(n_output)\n",
    "        self.grad_b = np.zeros_like(self.b)\n",
    "      \n",
    "    def forward(self, x_input):\n",
    "        self.output = dense_forward(x_input, self.W, self.b)\n",
    "        return self.output\n",
    "    \n",
    "    def backward(self, x_input, grad_output):\n",
    "        # get gradients of weights\n",
    "        self.grad_W = dense_grad_W(x_input, grad_output, self.W, self.b)\n",
    "        self.grad_b = dense_grad_b(x_input, grad_output, self.W, self.b)\n",
    "        # propagate the gradient backwards\n",
    "        return dense_grad_input(x_input, grad_output, self.W, self.b)\n",
    "    \n",
    "    def get_params(self):\n",
    "        return [self.W, self.b]\n",
    "\n",
    "    def get_params_gradients(self):\n",
    "        return [self.grad_W, self.grad_b]"
   ]
  },
  {
   "cell_type": "code",
   "execution_count": 19,
   "metadata": {},
   "outputs": [
    {
     "name": "stdout",
     "output_type": "stream",
     "text": [
      "[[0.03566487 0.92524235]\n",
      " [0.15628695 0.48761872]\n",
      " [0.7043134  0.28245533]]\n",
      "[[0.21412249]\n",
      " [0.33058392]\n",
      " [1.16351099]]\n"
     ]
    }
   ],
   "source": [
    "dense_layer = Dense(2, 1)\n",
    "x_input = np.random.random((3, 2))\n",
    "y_output = dense_layer.forward(x_input)\n",
    "print(x_input)\n",
    "print(y_output)"
   ]
  },
  {
   "cell_type": "markdown",
   "metadata": {},
   "source": [
    "# 3. ReLU nonlinearity\n",
    "\n",
    "The dense layer, from previous section, is linear. Combinging several linear (dense) layers is always equivalent to a single dense layer. Here is the mathematically proof for this: \n",
    "$$\n",
    "H_1 = XW_1 + b_1\\\\\n",
    "H_2 = H_1W_2 + b_2\\\\\n",
    "H_2 = (XW_1 + b_1)W_2 + b_2 = X(W_1W_2) + (b_1W_2 + b_2) = XW^* + b^*\n",
    "$$\n",
    "\n",
    "\n",
    "For this reason, we're also going to need non-linear layers. Non-linear layers ($f$ in the following) are mostly element-wise and hold the following:\n",
    "$$\n",
    "H_1 = XW_1 + b_1\\\\\n",
    "H_2 = f(H_1)W_2 + b_2\\\\\n",
    "H_2 = f(XW_1 + b_1)W_2 + b_2 \\neq XW^* + b^*\n",
    "$$\n",
    "\n",
    "A popular example of a simple non-linear layer is **ReLU** (Rectified Linear Unit). ReLU doesn't have weights that can be optimized like a dense layer.\n",
    "$$\n",
    "\\text{ReLU}(x) = \\max(0, x)\n",
    "$$\n",
    "\n",
    "<img src=\"./src/relu.png\" width=\"500\">\n",
    "\n",
    "**Example**\n",
    "\n",
    "$$\n",
    "\\text{ReLU} \\Big(\n",
    "\\begin{bmatrix}\n",
    "1 & -0.5 \\\\\n",
    "0.3 & 0.1 \n",
    "\\end{bmatrix}\n",
    "\\Big) = \n",
    "\\begin{bmatrix}\n",
    "1 & 0 \\\\\n",
    "0.3 & 0.1 \n",
    "\\end{bmatrix}\n",
    "$$\n",
    "\n",
    "Next, you will implement the forward pass and backward pass (gradient) for ReLU. "
   ]
  },
  {
   "cell_type": "code",
   "execution_count": 20,
   "metadata": {},
   "outputs": [],
   "source": [
    "def relu_forward(x_input):\n",
    "    \"\"\"relu nonlinearity\n",
    "    # Arguments\n",
    "        x_input: np.array of size `(n_objects, n_in)`\n",
    "    # Output\n",
    "        the output of relu layer\n",
    "        np.array of size `(n_objects, n_in)`\n",
    "    \"\"\"\n",
    "    def relu_calc(x):\n",
    "        if x>=0:\n",
    "            return x\n",
    "        else:\n",
    "            return 0.0\n",
    "    \n",
    "    relu_vect = np.vectorize(relu_calc)\n",
    "    output = relu_vect(x_input)\n",
    "    return output"
   ]
  },
  {
   "cell_type": "code",
   "execution_count": 21,
   "metadata": {},
   "outputs": [
    {
     "name": "stdout",
     "output_type": "stream",
     "text": [
      "[[1.  0. ]\n",
      " [0.3 0.1]]\n"
     ]
    }
   ],
   "source": [
    "#test forward pass for ReLU, see example above\n",
    "x_input = np.array([[1, -0.5],\n",
    "                    [0.3, 0.1]])\n",
    "\n",
    "print(relu_forward(x_input))"
   ]
  },
  {
   "cell_type": "code",
   "execution_count": null,
   "metadata": {},
   "outputs": [],
   "source": [
    "am.test_student_function(username, relu_forward, ['x_input'])"
   ]
  },
  {
   "cell_type": "code",
   "execution_count": 23,
   "metadata": {},
   "outputs": [],
   "source": [
    "def relu_grad_input(x_input, grad_output):\n",
    "    \"\"\"relu nonlinearity gradient. \n",
    "        Calculate the partial derivative of the loss \n",
    "        with respect to the input of the layer\n",
    "    # Arguments\n",
    "        x_input: np.array of size `(n_objects, n_in)`\n",
    "            grad_output: np.array of size `(n_objects, n_in)`\n",
    "    # Output\n",
    "        the partial derivative of the loss \n",
    "        with respect to the input of the layer\n",
    "        np.array of size `(n_objects, n_in)`\n",
    "    \"\"\"\n",
    "    def relu_grad_calc(x):\n",
    "        if x>0:\n",
    "            return 1.0\n",
    "        else:\n",
    "            return 0.0\n",
    "\n",
    "    relu_grad_vect = np.vectorize(relu_grad_calc)  \n",
    "    grad_input = relu_grad_vect(x_input) * grad_output\n",
    "    return grad_input"
   ]
  },
  {
   "cell_type": "code",
   "execution_count": null,
   "metadata": {},
   "outputs": [],
   "source": [
    "x = np.array([[ 1.2238082,   2.22719844],\n",
    " [-9.66319414,  8.65035235]])\n",
    "\n",
    "grad_out = np.array([[-1.88677243,  7.51987133],\n",
    " [ 1.75653332,  1.07042446]])"
   ]
  },
  {
   "cell_type": "code",
   "execution_count": 180,
   "metadata": {},
   "outputs": [],
   "source": [
    "x = np.array([[ 0.61582769,  1.65506874],\n",
    " [ 0.47864018, -3.19199879],\n",
    " [ 8.05961,  -8.53589522]])\n",
    "\n",
    "W = np.array([[ 3.20968842,  1.49140623,  0.9146747,   2.77583707,  7.39069054, -8.87348835],\n",
    " [ 4.62458646,  8.44564904,  9.29946712, -9.34486205,  4.98387295, -4.23473209]])\n",
    "\n",
    "b = np.array([-6.58651715, -6.30543695, -2.20704323,  7.88893896,  1.72188198,  9.4243475 ])\n",
    "\n",
    "grad_out = np.array([[ 9.95145598, -9.86050443, -3.68927191, -7.79275657,  4.37951425, -4.1501241 ],\n",
    " [-6.12881009, -7.90585767, -9.90740991, -3.96767201,  4.96338224,  6.72195169],\n",
    " [-9.90683306, -6.94018847, -5.5892053,   6.81410792,  4.13508976, -1.78010678]])"
   ]
  },
  {
   "cell_type": "code",
   "execution_count": null,
   "metadata": {},
   "outputs": [],
   "source": [
    "am.test_student_function(username, relu_grad_input, ['x_input', 'grad_output'])"
   ]
  },
  {
   "cell_type": "code",
   "execution_count": 24,
   "metadata": {},
   "outputs": [],
   "source": [
    "class ReLU(Layer):\n",
    "        \n",
    "    def forward(self, x_input):\n",
    "        self.output = relu_forward(x_input)\n",
    "        return self.output\n",
    "    \n",
    "    def backward(self, x_input, grad_output):\n",
    "        return relu_grad_input(x_input, grad_output)"
   ]
  },
  {
   "cell_type": "markdown",
   "metadata": {},
   "source": [
    "# 4. Sequential model\n",
    "In order to make the work with layers more comfortable, we create `SequentialNN` - a class, which stores all its layers and performs the basic manipulations. Again, this is for the experiments below and you don't need to know how this works. "
   ]
  },
  {
   "cell_type": "code",
   "execution_count": 25,
   "metadata": {},
   "outputs": [],
   "source": [
    "class SequentialNN(object):\n",
    "\n",
    "    def __init__(self):\n",
    "        self.layers = []\n",
    "        self.training_phase = True\n",
    "        \n",
    "    def set_training_phase(self, is_training=True):\n",
    "        self.training_phase = is_training\n",
    "        for layer in self.layers:\n",
    "            layer.training_phase = is_training\n",
    "        \n",
    "    def add(self, layer):\n",
    "        self.layers.append(layer)\n",
    "        \n",
    "    def forward(self, x_input):\n",
    "        self.output = x_input\n",
    "        for layer in self.layers:\n",
    "            self.output = layer.forward(self.output)\n",
    "        return self.output\n",
    "    \n",
    "    def backward(self, x_input, grad_output):\n",
    "        inputs = [x_input] + [l.output for l in self.layers[:-1]]\n",
    "        for input_, layer_ in zip(inputs[::-1], self.layers[::-1]):\n",
    "            grad_output = layer_.backward(input_, grad_output)\n",
    "            \n",
    "    def get_params(self):\n",
    "        params = []\n",
    "        for layer in self.layers:\n",
    "            params.extend(layer.get_params())\n",
    "        return params\n",
    "    \n",
    "    def get_params_gradients(self):\n",
    "        grads = []\n",
    "        for layer in self.layers:\n",
    "            grads.extend(layer.get_params_gradients())\n",
    "        return grads"
   ]
  },
  {
   "cell_type": "markdown",
   "metadata": {},
   "source": [
    "Here is the simple neural network. It takes an input of shape `(Any, 10)` and passes it through `Dense(10, 4)`, `ReLU` and `Dense(4, 1)`. The output is a batch of size `(Any, 1)`. \n",
    "```\n",
    "  INPUT\n",
    "    |\n",
    "Dense(10, 4)\n",
    "    |\n",
    "   ReLU\n",
    "    |\n",
    "Dense(4, 1)\n",
    "    |\n",
    "  OUTPUT\n",
    "```"
   ]
  },
  {
   "cell_type": "code",
   "execution_count": null,
   "metadata": {},
   "outputs": [],
   "source": [
    "nn = SequentialNN()\n",
    "nn.add(Dense(10, 4))\n",
    "nn.add(ReLU())\n",
    "nn.add(Dense(4, 1))"
   ]
  },
  {
   "cell_type": "markdown",
   "metadata": {
    "collapsed": true
   },
   "source": [
    "# 5. Loss"
   ]
  },
  {
   "cell_type": "markdown",
   "metadata": {},
   "source": [
    "Here we will define the loss functions. Each loss should be able to compute its value and compute its gradient with respect to the input. We have implemented these functions (e.g. forward, backward) for you.  "
   ]
  },
  {
   "cell_type": "code",
   "execution_count": 27,
   "metadata": {},
   "outputs": [],
   "source": [
    "class Loss(object):\n",
    "    \n",
    "    def __init__(self):\n",
    "        self.output = 0.0\n",
    "        \n",
    "    def forward(self, target_pred, target_true):\n",
    "        return self.output\n",
    "    \n",
    "    def backward(self, target_pred, target_true):\n",
    "        return np.zeros_like(target_pred)"
   ]
  },
  {
   "cell_type": "markdown",
   "metadata": {},
   "source": [
    "In the previous section, you've seen a loss function for a linear regression. Here, you'll implement another sort of loss function used in classification: the [Hinge](https://en.wikipedia.org/wiki/Hinge_loss) loss function: \n",
    "$$ \n",
    "\\mathcal{L}(Y, \\dot{Y}) = \\frac{1}{N}\\sum\\limits_{n=1}^{N}\\max(0, 1 - \\dot{y}_n \\cdot y_n)\n",
    "$$\n",
    "\n",
    "* $N$ represents the number of data points\n",
    "* $\\dot{Y}$ and $Y$ are vectors of length $N$. $Y$ represents the true classes for your data points and $\\dot{Y}$ represents your prediction of the classes. \n",
    "* $\\dot{y}_n$ represents the predicted class of the $n$-th object. $\\dot{y}_n \\in {\\rm I\\!R}$\n",
    "* $y_n$ is the real class of this object. $y_n \\in \\{-1, 1\\}$\n",
    "\n",
    "This loss function is used in the SVM classifier. You will learn more about SVM in the lectures or click [here](https://www.youtube.com/watch?v=Y6RRHw9uN9o) for a helpful video. \n",
    "\n",
    "Now, you'll calculate the forward pass for the Hinge loss function. "
   ]
  },
  {
   "cell_type": "code",
   "execution_count": 28,
   "metadata": {},
   "outputs": [],
   "source": [
    "def hinge_forward(target_pred, target_true):\n",
    "    \"\"\"Compute the value of Hinge loss \n",
    "        for a given prediction and the ground truth\n",
    "    # Arguments\n",
    "        target_pred: predictions - np.array of size `(n_objects,)`\n",
    "        target_true: ground truth - np.array of size `(n_objects,)`\n",
    "    # Output\n",
    "        the value of Hinge loss \n",
    "        for a given prediction and the ground truth\n",
    "        scalar\n",
    "    \"\"\"\n",
    "    assert(len(target_pred) == len(target_true))\n",
    "    N = len(target_pred)\n",
    "    def find_max_hinge(x):\n",
    "        if (x>0):\n",
    "            return x\n",
    "        else:\n",
    "            return 0.0\n",
    "    find_max_hinge = np.vectorize(find_max_hinge)\n",
    "\n",
    "    results = find_max_hinge(1 - target_pred*target_true) \n",
    "    output = 1/N * np.sum(results)\n",
    "    \n",
    "    return output"
   ]
  },
  {
   "cell_type": "markdown",
   "metadata": {},
   "source": [
    "You can test your forward pass below. Your output should be: `0.875`"
   ]
  },
  {
   "cell_type": "code",
   "execution_count": null,
   "metadata": {},
   "outputs": [],
   "source": [
    "#test forward pass for Hinge\n",
    "target_pred = np.array([2,-5,3,0.5])\n",
    "target_true = np.array([-1,-1,1,1])\n",
    "print(hinge_forward(target_pred, target_true))"
   ]
  },
  {
   "cell_type": "code",
   "execution_count": null,
   "metadata": {},
   "outputs": [],
   "source": [
    "am.test_student_function(username, hinge_forward, ['target_pred', 'target_true'])"
   ]
  },
  {
   "cell_type": "code",
   "execution_count": null,
   "metadata": {},
   "outputs": [],
   "source": [
    "am.get_progress(username)"
   ]
  },
  {
   "cell_type": "markdown",
   "metadata": {},
   "source": [
    "Now, you should compute the gradient of the Hinge loss function with respect to its input. The output of this backward pass is a vector with the same shape as the input. To calculate the derivative of a vector, calculate the derivatives of its elements. Those derivatives become the elements of the derivative of the vector: \n",
    "$$\n",
    "\\frac{\\partial \\mathcal{L}}{\\partial \\dot{Y}} = \n",
    "\\begin{bmatrix}\n",
    "\\frac{\\partial \\mathcal{L}}{\\partial \\dot{y}_1} \\\\ \n",
    "\\frac{\\partial \\mathcal{L}}{\\partial \\dot{y}_2} \\\\ \n",
    "\\vdots \\\\\n",
    "\\frac{\\partial \\mathcal{L}}{\\partial \\dot{y}_N} \\\\ \n",
    "\\end{bmatrix}\n",
    "$$\n",
    "\n",
    "Now, you'll implement the backward pass for the Hinge loss function. "
   ]
  },
  {
   "cell_type": "code",
   "execution_count": 29,
   "metadata": {},
   "outputs": [],
   "source": [
    "def hinge_grad_input(target_pred, target_true):\n",
    "    \"\"\"Compute the partial derivative \n",
    "        of Hinge loss with respect to its input\n",
    "    # Arguments\n",
    "        target_pred: predictions - np.array of size `(n_objects,)`\n",
    "        target_true: ground truth - np.array of size `(n_objects,)`\n",
    "    # Output\n",
    "        the partial derivative \n",
    "        of Hinge loss with respect to its input\n",
    "        np.array of size `(n_objects,)`\n",
    "    \"\"\"\n",
    "    assert(len(target_pred) == len(target_true))\n",
    "    N = len(target_pred)\n",
    "    \n",
    "    def hinge_single(y_pred, y_true):\n",
    "        if 1 - y_pred*y_true > 0:\n",
    "            return 1/N * (-y_true)\n",
    "        else:\n",
    "            return 0.0\n",
    "    hinge_single = np.vectorize(hinge_single)\n",
    "    \n",
    "    grad_input = hinge_single(target_pred, target_true)\n",
    "    return grad_input"
   ]
  },
  {
   "cell_type": "code",
   "execution_count": null,
   "metadata": {},
   "outputs": [],
   "source": [
    "am.test_student_function(username, hinge_grad_input, ['target_pred', 'target_true'])"
   ]
  },
  {
   "cell_type": "code",
   "execution_count": 30,
   "metadata": {},
   "outputs": [],
   "source": [
    "class Hinge(Loss):\n",
    "    \n",
    "    def forward(self, target_pred, target_true):\n",
    "        self.output = hinge_forward(target_pred, target_true)\n",
    "        return self.output\n",
    "    \n",
    "    def backward(self, target_pred, target_true):\n",
    "        return hinge_grad_input(target_pred, target_true)"
   ]
  },
  {
   "cell_type": "markdown",
   "metadata": {},
   "source": [
    "# 6. $L_2$ Regularization"
   ]
  },
  {
   "cell_type": "markdown",
   "metadata": {},
   "source": [
    "Loss functions update the weights of your model to improve your predictions. We do this by minimizing the loss function. However, up until now this loss function did not take into account the complexity of your model. Here we mean with complexity the number of parameters that your model stores. We do want to take complexity into account because complex models can perform poorly on test data, while performing excellent on train data. \n",
    "\n",
    "To penalize the complextity of the model, we introduce a regularizer. You'll learn more about regularizers in the lectures, but the general idea is that we take the values of the weights into account with the loss function. High values for weights are indicators of complexity. \n",
    "\n",
    "There are several ways of adding regularization to a model. We will implement [$L_2$ regularization](http://www.deeplearningbook.org/contents/regularization.html) also known as weight decay:\n",
    "\n",
    "The key idea of $L_2$ regularization is to add an extra term to the loss functions:\n",
    "$$\n",
    "\\mathcal{L}^* = \\mathcal{L} + \\frac{\\lambda}{2} \\|w\\|^2_2\n",
    "$$\n",
    "\n",
    "The part we added to the loss function is called the regularization function. \n",
    "* $\\lambda$ is named weight decay. It is a hyperparameter that determines the influence of the regularization to the outcome of the loss function. \n",
    "* $\\|w\\|^2_2$ is the squared [euclidian norm](https://en.wikipedia.org/wiki/Euclidean_distance) where $\\|w\\|^2_2 = \\|w_1\\|^2_2 + \\|w_2\\|^2_2 ... \\|w_k\\|^2_2$. \n",
    "This function in more detail becomes:\n",
    "\n",
    "$$\n",
    "\\mathcal{L}^* = \\mathcal{L} + \\frac{\\lambda}{2} \\sum\\limits_{m=1}^k \\|w_m\\|^2_2\n",
    "$$\n",
    "\n",
    "Because we use a different loss function, the updating of the weights is also slightly changed: \n",
    "\n",
    "$$\n",
    "w_m \\leftarrow w_m - \\gamma \\frac{\\partial \\mathcal{L}^*}{\\partial w_m}\\\\\n",
    "\\frac{\\partial \\mathcal{L}^*}{\\partial w_m} = \\frac{\\partial \\mathcal{L}}{\\partial w_m} + \\lambda w_m\\\\\n",
    "w_m \\leftarrow w_m - \\gamma \\frac{\\partial \\mathcal{L}}{\\partial w_m} - \\lambda w_m\n",
    "$$\n",
    "\n",
    "Here, you'll implement the computation of $L_2$: \n",
    "$$\n",
    "L_2(\\lambda, [w_1, w_2, \\dots, w_k]) = \\frac{\\lambda}{2} \\sum\\limits_{m=1}^k \\|w_m\\|^2_2\n",
    "$$ "
   ]
  },
  {
   "cell_type": "code",
   "execution_count": 140,
   "metadata": {},
   "outputs": [],
   "source": [
    "def l2_regularizer(weight_decay, weights):\n",
    "    \"\"\"Compute the L2 regularization term\n",
    "    # Arguments\n",
    "        weight_decay: float\n",
    "        weights: list of arrays of different shapes\n",
    "    # Output\n",
    "        sum of the L2 norms of the input weights\n",
    "        scalar\n",
    "    \"\"\"\n",
    "    squared_sum = 0.0\n",
    "    for single_layer_weights in weights:\n",
    "        squared_sum += np.sum(single_layer_weights** 2) #flatten all weights to single array\n",
    "    \n",
    "    output = weight_decay/2 * np.sum(squared_sum)       \n",
    "    return output"
   ]
  },
  {
   "cell_type": "markdown",
   "metadata": {},
   "source": [
    "You can test your forward pass below. Your output should be: `108.25`"
   ]
  },
  {
   "cell_type": "code",
   "execution_count": 129,
   "metadata": {},
   "outputs": [],
   "source": [
    "#test the L2 regularizer\n",
    "weight_decay = 2\n",
    "weights = []\n",
    "weights.append(np.array([5,3,7,5,0.5]))\n",
    "weights.append(np.array([3,3,5,5]))\n",
    "# # for layer_weight in weights:\n",
    "# #     squares.concatenate(layer_weight ** 2)\n",
    "# weights = np.concatenate(weights, axis=0)\n",
    "# weights ** 2"
   ]
  },
  {
   "cell_type": "code",
   "execution_count": null,
   "metadata": {},
   "outputs": [],
   "source": [
    "print(l2_regularizer(weight_decay, weights))"
   ]
  },
  {
   "cell_type": "code",
   "execution_count": 141,
   "metadata": {},
   "outputs": [
    {
     "name": "stdout",
     "output_type": "stream",
     "text": [
      "Running local tests...\n",
      "l2_regularizer successfully passed local tests\n",
      "Running remote test...\n",
      "Test was successful. Congratulations!\n"
     ]
    }
   ],
   "source": [
    "am.test_student_function(username, l2_regularizer, ['weight_decay', 'weights'])"
   ]
  },
  {
   "cell_type": "markdown",
   "metadata": {},
   "source": [
    "# 7. Optimizer\n",
    "\n",
    "We implement the optimizer to perform the updates of the weights. Here we have implemented two classes that you will need in the Experiments section.   "
   ]
  },
  {
   "cell_type": "code",
   "execution_count": 186,
   "metadata": {},
   "outputs": [],
   "source": [
    "# class Optimizer(object):\n",
    "#     '''\n",
    "#     This is a basic class. \n",
    "#     All other optimizers will inherit it\n",
    "#     '''\n",
    "#     def __init__(self, model, lr=0.01, weight_decay=0.0):\n",
    "#         self.model = model\n",
    "#         self.lr = lr\n",
    "#         self.weight_decay = weight_decay\n",
    "        \n",
    "#     def update_params(self):\n",
    "#         pass\n",
    "\n",
    "\n",
    "# class SGD(Optimizer):\n",
    "#     '''\n",
    "#     Stochastic gradient descent optimizer\n",
    "#     https://en.wikipedia.org/wiki/Stochastic_gradient_descent\n",
    "#     '''\n",
    "        \n",
    "#     def update_params(self):\n",
    "#         weights = self.model.get_params()\n",
    "#         print('weights')\n",
    "#         print(weights)\n",
    "#         grads = self.model.get_params_gradients()\n",
    "#         print('grads')\n",
    "#         print(grads)\n",
    "\n",
    "#         for w, dw in zip(weights, grads):\n",
    "#             update = self.lr * dw + self.weight_decay * w\n",
    "#             # it writes the result to the previous variable instead of copying\n",
    "#             np.subtract(w, update, out=w) "
   ]
  },
  {
   "cell_type": "markdown",
   "metadata": {},
   "source": [
    "# 8. Advanced blocks"
   ]
  },
  {
   "cell_type": "markdown",
   "metadata": {},
   "source": [
    "This is an optional section. If you liked the process of understanding neural networks by implementing them from scratch, here are several more tasks for you."
   ]
  },
  {
   "cell_type": "markdown",
   "metadata": {},
   "source": [
    "## 8.1 Dropout\n",
    "\n",
    "[Dropout](https://www.cs.toronto.edu/~hinton/absps/JMLRdropout.pdf) is a method of regularization. It can be interpreted as augmentation method. The key idea is to randomly drop some values of the input to avoid overfitting. Its behaviour is different during training and testing.\n",
    "\n",
    "![dropout](./src/dropout.png)"
   ]
  },
  {
   "cell_type": "markdown",
   "metadata": {},
   "source": [
    "First of all, you should implement the method of calculating the binary mask. The binary mask has the same shape as the input. The mask could have the value 0 for the certain element with the probability `drop_rate` and it could have the value 1 with a probability of `1.0 - drop_rate`. \n",
    "\n",
    "**Note**, the $p$ from the paper linked above is `1.0 - drop_rate`\n"
   ]
  },
  {
   "cell_type": "code",
   "execution_count": 103,
   "metadata": {},
   "outputs": [],
   "source": [
    "def dropout_generate_mask(shape, drop_rate):\n",
    "    print(shape)\n",
    "    print(drop_rate)\n",
    "    \"\"\"Generate binary mask \n",
    "    # Arguments\n",
    "        shape: shape of the input array \n",
    "            tuple \n",
    "        drop_rate: probability of the element \n",
    "            to be multiplied by 0\n",
    "            scalar\n",
    "    # Output\n",
    "        binary mask \n",
    "    \"\"\"\n",
    "    mask = np.random.binomial(1, 1-drop_rate, size=shape)\n",
    "    return mask"
   ]
  },
  {
   "cell_type": "code",
   "execution_count": 111,
   "metadata": {},
   "outputs": [
    {
     "name": "stdout",
     "output_type": "stream",
     "text": [
      "[[[1 1]\n",
      "  [1 0]\n",
      "  [0 1]\n",
      "  [1 1]\n",
      "  [1 0]\n",
      "  [1 1]]]\n",
      "[[[ 5.2613021   1.        ]\n",
      "  [-9.32911212  2.        ]\n",
      "  [-0.          0.        ]\n",
      "  [-3.54690413  6.        ]\n",
      "  [-3.70779371  3.        ]\n",
      "  [-0.09034737  5.        ]]\n",
      "\n",
      " [[ 5.2613021   1.        ]\n",
      "  [-0.          0.        ]\n",
      "  [-7.93679757  4.        ]\n",
      "  [-3.54690413  6.        ]\n",
      "  [-0.          0.        ]\n",
      "  [-0.09034737  5.        ]]]\n",
      "(2, 3)\n",
      "0.3\n"
     ]
    },
    {
     "data": {
      "text/plain": [
       "array([[1, 0, 0],\n",
       "       [0, 0, 0]])"
      ]
     },
     "execution_count": 111,
     "metadata": {},
     "output_type": "execute_result"
    }
   ],
   "source": [
    "input_array = np.array([[ 5.2613021, 1 ],\n",
    "                 [-9.32911212, 2],\n",
    "                 [-7.93679757, 4],\n",
    "                 [-3.54690413, 6],\n",
    "                 [-3.70779371, 3],\n",
    "                 [-0.09034737, 5]])\n",
    "\n",
    "mask = np.random.binomial(1, 0.85, size=input_array.shape)\n",
    "mask = np.array([mask,])\n",
    "print(mask)\n",
    "final = input_array * mask.T\n",
    "final.shape\n",
    "print(final)\n",
    "dropout_generate_mask((2,3), 0.3)"
   ]
  },
  {
   "cell_type": "code",
   "execution_count": 121,
   "metadata": {},
   "outputs": [
    {
     "name": "stdout",
     "output_type": "stream",
     "text": [
      "(6, 2)\n",
      "0.45\n",
      "[[1 1]\n",
      " [1 0]\n",
      " [1 1]\n",
      " [1 1]\n",
      " [1 0]\n",
      " [1 1]]\n"
     ]
    }
   ],
   "source": [
    "print(dropout_generate_mask(input_array.shape, 0.45))"
   ]
  },
  {
   "cell_type": "markdown",
   "metadata": {},
   "source": [
    "Now, implement the above-described operation of mapping."
   ]
  },
  {
   "cell_type": "code",
   "execution_count": 34,
   "metadata": {},
   "outputs": [],
   "source": [
    "def dropout_forward(x_input, mask, drop_rate, training_phase):\n",
    "    \"\"\"Perform the mapping of the input\n",
    "    # Arguments\n",
    "        x_input: input of the layer \n",
    "            np.array of size `(n_objects, d_in)`\n",
    "        mask: binary mask\n",
    "            np.array of size `(n_objects, d_in)`\n",
    "        drop_rate: probability of the element to be multiplied by 0\n",
    "            scalar\n",
    "        training_phase: bool either `True` - training, or `False` - testing\n",
    "    # Output\n",
    "        the output of the dropout layer \n",
    "        np.array of size `(n_objects, d_in)`\n",
    "    \"\"\"\n",
    "    if (training_phase == True):\n",
    "        output = x_input * mask\n",
    "    else:\n",
    "        output = x_input * (1-drop_rate)\n",
    "    return output"
   ]
  },
  {
   "cell_type": "code",
   "execution_count": null,
   "metadata": {},
   "outputs": [],
   "source": [
    "am.test_student_function(username, dropout_forward, ['x_input', 'mask', 'drop_rate', 'training_phase'])\n"
   ]
  },
  {
   "cell_type": "markdown",
   "metadata": {},
   "source": [
    "And, as usual, implement the calculation of the partial derivative of the loss function with respect to the input of a layer. "
   ]
  },
  {
   "cell_type": "code",
   "execution_count": 46,
   "metadata": {},
   "outputs": [],
   "source": [
    "def dropout_grad_input(x_input, grad_output, mask):\n",
    "    \"\"\"Calculate the partial derivative of \n",
    "        the loss with respect to the input of the layer\n",
    "    # Arguments\n",
    "        x_input: input of a dense layer - np.array of size `(n_objects, n_in)`\n",
    "        grad_output: partial derivative of the loss functions with \n",
    "            respect to the ouput of the dropout layer \n",
    "            np.array of size `(n_objects, n_in)`\n",
    "        mask: binary mask\n",
    "            np.array of size `(n_objects, n_in)`\n",
    "    # Output\n",
    "        the partial derivative of the loss with \n",
    "        respect to the input of the layer\n",
    "        np.array of size `(n_objects, n_in)`\n",
    "    \"\"\"\n",
    "    grad_input = 1.0 * mask * grad_output\n",
    "    return grad_input"
   ]
  },
  {
   "cell_type": "code",
   "execution_count": 47,
   "metadata": {},
   "outputs": [
    {
     "name": "stdout",
     "output_type": "stream",
     "text": [
      "Running local tests...\n",
      "dropout_grad_input successfully passed local tests\n",
      "Running remote test...\n",
      "Test was successful. Congratulations!\n"
     ]
    }
   ],
   "source": [
    "am.test_student_function(username, dropout_grad_input, ['x_input', 'grad_output', 'mask'])"
   ]
  },
  {
   "cell_type": "code",
   "execution_count": 48,
   "metadata": {},
   "outputs": [],
   "source": [
    "class Dropout(Layer):\n",
    "    \n",
    "    def __init__(self, drop_rate):\n",
    "        super(Dropout, self).__init__()\n",
    "        self.drop_rate = drop_rate\n",
    "        self.mask = 1.0\n",
    "        \n",
    "    def forward(self, x_input):\n",
    "        if self.training_phase:\n",
    "            self.mask = dropout_generate_mask(x_input.shape, self.drop_rate)\n",
    "        self.output = dropout_forward(x_input, self.mask, \n",
    "                                      self.drop_rate, self.training_phase)\n",
    "        return self.output\n",
    "    \n",
    "    def backward(self, x_input, grad_output):\n",
    "        grad_input = dropout_grad_input(x_input, grad_output, self.mask)\n",
    "        return grad_input"
   ]
  },
  {
   "cell_type": "markdown",
   "metadata": {
    "collapsed": true
   },
   "source": [
    "## 8.2 MSE Loss\n",
    "MSE (Mean Squared Error) is a popular loss for the regression tasks.\n",
    "\n",
    "$$\n",
    "\\mathcal{L}(Y, \\dot{Y}) = \\frac{1}{2N}\\sum\\limits_{n=1}^N(y_n - \\dot{y}_n)^2\n",
    "$$\n",
    "\n",
    "* $N$ - number of objects\n",
    "* $\\dot{Y}$ and $Y$ are the vectors of length $N$. \n",
    "* $\\dot{y}_n$ is the predicted target value of the $n$-th object. $\\dot{y}_n \\in {\\rm I\\!R}$\n",
    "* $y_n$ is the real target value of the $n$-th object. $y_n \\in {\\rm I\\!R}$\n",
    "* This loss function is used to train regressors.\n",
    "\n",
    "Let's implement the calculation of the loss."
   ]
  },
  {
   "cell_type": "code",
   "execution_count": 58,
   "metadata": {},
   "outputs": [],
   "source": [
    "def mse_forward(target_pred, target_true):\n",
    "    \"\"\"Compute the value of MSE loss\n",
    "        for a given prediction and the ground truth\n",
    "    # Arguments\n",
    "        target_pred: predictions - np.array of size `(n_objects,)`\n",
    "        target_true: ground truth - np.array of size `(n_objects,)`\n",
    "    # Output\n",
    "        the value of MSE loss \n",
    "        for a given prediction and the ground truth\n",
    "        scalar\n",
    "    \"\"\"\n",
    "    N = target_pred.shape[0]\n",
    "    output = 1/(2*N)*np.sum((target_pred - target_true)**2)\n",
    "    return output"
   ]
  },
  {
   "cell_type": "code",
   "execution_count": 59,
   "metadata": {},
   "outputs": [
    {
     "name": "stdout",
     "output_type": "stream",
     "text": [
      "Running local tests...\n",
      "mse_forward successfully passed local tests\n",
      "Running remote test...\n",
      "Test was successful. Congratulations!\n"
     ]
    }
   ],
   "source": [
    "am.test_student_function(username, mse_forward, ['target_pred', 'target_true'])"
   ]
  },
  {
   "cell_type": "markdown",
   "metadata": {},
   "source": [
    "Now you should compute the gradient of the loss function with respect to its input. "
   ]
  },
  {
   "cell_type": "code",
   "execution_count": 56,
   "metadata": {},
   "outputs": [],
   "source": [
    "def mse_grad_input(target_pred, target_true):\n",
    "    \"\"\"Compute the partial derivative \n",
    "        of MSE loss with respect to its input\n",
    "    # Arguments\n",
    "        target_pred: predictions - np.array of size `(n_objects,)`\n",
    "        target_true: ground truth - np.array of size `(n_objects,)`\n",
    "    # Output\n",
    "        the partial derivative \n",
    "        of MSE loss with respect to its input\n",
    "        np.array of size `(n_objects,)`\n",
    "    \"\"\"\n",
    "    assert(len(target_pred) == len(target_true))\n",
    "    N = len(target_pred)\n",
    "    \n",
    "    def mse_single(y_pred, y_true):\n",
    "        return 1/(2*N)*(2*(y_pred - y_true))\n",
    "    mse_single = np.vectorize(mse_single)\n",
    "    \n",
    "    grad_input = mse_single(target_pred, target_true)\n",
    "    return grad_input"
   ]
  },
  {
   "cell_type": "code",
   "execution_count": 67,
   "metadata": {},
   "outputs": [
    {
     "name": "stdout",
     "output_type": "stream",
     "text": [
      "Running local tests...\n",
      "mse_grad_input successfully passed local tests\n",
      "Running remote test...\n",
      "Test was successful. Congratulations!\n"
     ]
    }
   ],
   "source": [
    "am.test_student_function(username, mse_grad_input, ['target_pred', 'target_true'])"
   ]
  },
  {
   "cell_type": "code",
   "execution_count": 57,
   "metadata": {},
   "outputs": [],
   "source": [
    "class MSE(Loss):\n",
    "    \n",
    "    def forward(self, target_pred, target_true):\n",
    "        self.output = mse_forward(target_pred, target_true)\n",
    "        return self.output\n",
    "    \n",
    "    def backward(self, target_pred, target_true):\n",
    "        return mse_grad_input(target_pred, target_true)"
   ]
  },
  {
   "cell_type": "markdown",
   "metadata": {
    "collapsed": true
   },
   "source": [
    "Let's check the progress one more time"
   ]
  },
  {
   "cell_type": "code",
   "execution_count": null,
   "metadata": {},
   "outputs": [],
   "source": [
    "am.get_progress(username)"
   ]
  },
  {
   "cell_type": "markdown",
   "metadata": {},
   "source": [
    "# Part two: Experiments\n",
    "\n",
    "Seems like you've already implemented all the building blocks of the Neural Network. Now we will conduct several experiments.\n",
    "\n",
    "**Note:** These experiments will not be evaluated."
   ]
  },
  {
   "cell_type": "markdown",
   "metadata": {},
   "source": [
    "## 9. Circles Classification Task"
   ]
  },
  {
   "cell_type": "code",
   "execution_count": 68,
   "metadata": {},
   "outputs": [],
   "source": [
    "import matplotlib.pyplot as plt\n",
    "%matplotlib inline\n",
    "from IPython.display import Image\n",
    "from IPython.core.display import HTML "
   ]
  },
  {
   "cell_type": "markdown",
   "metadata": {},
   "source": [
    "In this first task we created a dataset of 2 circles made out of dots from 2 different formulas. It is your task to predict for each dot which circle it belongs to. \n",
    "\n",
    "The main purpose of this task is to understand the **importance of network design and parameter tuning (number of layers, number of hidden units, etc.)**. At first, we will generate and visualize the data in following cell."
   ]
  },
  {
   "cell_type": "code",
   "execution_count": 202,
   "metadata": {},
   "outputs": [
    {
     "data": {
      "text/plain": [
       "<matplotlib.collections.PathCollection at 0x7f99cc2054e0>"
      ]
     },
     "execution_count": 202,
     "metadata": {},
     "output_type": "execute_result"
    },
    {
     "data": {
      "image/png": "[encoded data removed]",
      "text/plain": [
       "<Figure size 432x288 with 1 Axes>"
      ]
     },
     "metadata": {
      "needs_background": "light"
     },
     "output_type": "display_data"
    }
   ],
   "source": [
    "# Generate some data\n",
    "N = 100\n",
    "phi = np.linspace(0.0, np.pi * 2, 100)\n",
    "X1 = 1.1 * np.array([np.sin(phi), np.cos(phi)])\n",
    "X2 = 3.0 * np.array([np.sin(phi), np.cos(phi)])\n",
    "\n",
    "Y = np.concatenate([np.ones(N), -1.0 * np.ones(N)]).reshape((-1, 1))\n",
    "\n",
    "X = np.hstack([X1,X2]).T\n",
    "plt.scatter(X[:,0], X[:,1], c=Y.ravel(), edgecolors= 'none')"
   ]
  },
  {
   "cell_type": "code",
   "execution_count": 123,
   "metadata": {},
   "outputs": [
    {
     "data": {
      "text/plain": [
       "array([[ 1.],\n",
       "       [ 1.],\n",
       "       [ 1.],\n",
       "       [ 1.],\n",
       "       [ 1.],\n",
       "       [ 1.],\n",
       "       [ 1.],\n",
       "       [ 1.],\n",
       "       [ 1.],\n",
       "       [ 1.],\n",
       "       [ 1.],\n",
       "       [ 1.],\n",
       "       [ 1.],\n",
       "       [ 1.],\n",
       "       [ 1.],\n",
       "       [ 1.],\n",
       "       [ 1.],\n",
       "       [ 1.],\n",
       "       [ 1.],\n",
       "       [ 1.],\n",
       "       [ 1.],\n",
       "       [ 1.],\n",
       "       [ 1.],\n",
       "       [ 1.],\n",
       "       [ 1.],\n",
       "       [ 1.],\n",
       "       [ 1.],\n",
       "       [ 1.],\n",
       "       [ 1.],\n",
       "       [ 1.],\n",
       "       [ 1.],\n",
       "       [ 1.],\n",
       "       [ 1.],\n",
       "       [ 1.],\n",
       "       [ 1.],\n",
       "       [ 1.],\n",
       "       [ 1.],\n",
       "       [ 1.],\n",
       "       [ 1.],\n",
       "       [ 1.],\n",
       "       [ 1.],\n",
       "       [ 1.],\n",
       "       [ 1.],\n",
       "       [ 1.],\n",
       "       [ 1.],\n",
       "       [ 1.],\n",
       "       [ 1.],\n",
       "       [ 1.],\n",
       "       [ 1.],\n",
       "       [ 1.],\n",
       "       [ 1.],\n",
       "       [ 1.],\n",
       "       [ 1.],\n",
       "       [ 1.],\n",
       "       [ 1.],\n",
       "       [ 1.],\n",
       "       [ 1.],\n",
       "       [ 1.],\n",
       "       [ 1.],\n",
       "       [ 1.],\n",
       "       [ 1.],\n",
       "       [ 1.],\n",
       "       [ 1.],\n",
       "       [ 1.],\n",
       "       [ 1.],\n",
       "       [ 1.],\n",
       "       [ 1.],\n",
       "       [ 1.],\n",
       "       [ 1.],\n",
       "       [ 1.],\n",
       "       [ 1.],\n",
       "       [ 1.],\n",
       "       [ 1.],\n",
       "       [ 1.],\n",
       "       [ 1.],\n",
       "       [ 1.],\n",
       "       [ 1.],\n",
       "       [ 1.],\n",
       "       [ 1.],\n",
       "       [ 1.],\n",
       "       [ 1.],\n",
       "       [ 1.],\n",
       "       [ 1.],\n",
       "       [ 1.],\n",
       "       [ 1.],\n",
       "       [ 1.],\n",
       "       [ 1.],\n",
       "       [ 1.],\n",
       "       [ 1.],\n",
       "       [ 1.],\n",
       "       [ 1.],\n",
       "       [ 1.],\n",
       "       [ 1.],\n",
       "       [ 1.],\n",
       "       [ 1.],\n",
       "       [ 1.],\n",
       "       [ 1.],\n",
       "       [ 1.],\n",
       "       [ 1.],\n",
       "       [ 1.],\n",
       "       [-1.],\n",
       "       [-1.],\n",
       "       [-1.],\n",
       "       [-1.],\n",
       "       [-1.],\n",
       "       [-1.],\n",
       "       [-1.],\n",
       "       [-1.],\n",
       "       [-1.],\n",
       "       [-1.],\n",
       "       [-1.],\n",
       "       [-1.],\n",
       "       [-1.],\n",
       "       [-1.],\n",
       "       [-1.],\n",
       "       [-1.],\n",
       "       [-1.],\n",
       "       [-1.],\n",
       "       [-1.],\n",
       "       [-1.],\n",
       "       [-1.],\n",
       "       [-1.],\n",
       "       [-1.],\n",
       "       [-1.],\n",
       "       [-1.],\n",
       "       [-1.],\n",
       "       [-1.],\n",
       "       [-1.],\n",
       "       [-1.],\n",
       "       [-1.],\n",
       "       [-1.],\n",
       "       [-1.],\n",
       "       [-1.],\n",
       "       [-1.],\n",
       "       [-1.],\n",
       "       [-1.],\n",
       "       [-1.],\n",
       "       [-1.],\n",
       "       [-1.],\n",
       "       [-1.],\n",
       "       [-1.],\n",
       "       [-1.],\n",
       "       [-1.],\n",
       "       [-1.],\n",
       "       [-1.],\n",
       "       [-1.],\n",
       "       [-1.],\n",
       "       [-1.],\n",
       "       [-1.],\n",
       "       [-1.],\n",
       "       [-1.],\n",
       "       [-1.],\n",
       "       [-1.],\n",
       "       [-1.],\n",
       "       [-1.],\n",
       "       [-1.],\n",
       "       [-1.],\n",
       "       [-1.],\n",
       "       [-1.],\n",
       "       [-1.],\n",
       "       [-1.],\n",
       "       [-1.],\n",
       "       [-1.],\n",
       "       [-1.],\n",
       "       [-1.],\n",
       "       [-1.],\n",
       "       [-1.],\n",
       "       [-1.],\n",
       "       [-1.],\n",
       "       [-1.],\n",
       "       [-1.],\n",
       "       [-1.],\n",
       "       [-1.],\n",
       "       [-1.],\n",
       "       [-1.],\n",
       "       [-1.],\n",
       "       [-1.],\n",
       "       [-1.],\n",
       "       [-1.],\n",
       "       [-1.],\n",
       "       [-1.],\n",
       "       [-1.],\n",
       "       [-1.],\n",
       "       [-1.],\n",
       "       [-1.],\n",
       "       [-1.],\n",
       "       [-1.],\n",
       "       [-1.],\n",
       "       [-1.],\n",
       "       [-1.],\n",
       "       [-1.],\n",
       "       [-1.],\n",
       "       [-1.],\n",
       "       [-1.],\n",
       "       [-1.],\n",
       "       [-1.],\n",
       "       [-1.],\n",
       "       [-1.],\n",
       "       [-1.],\n",
       "       [-1.]])"
      ]
     },
     "execution_count": 123,
     "metadata": {},
     "output_type": "execute_result"
    }
   ],
   "source": [
    "Y"
   ]
  },
  {
   "cell_type": "markdown",
   "metadata": {},
   "source": [
    "As you have already written the code blocks, we will just call those functions and will train the network to classify the two circles. \n",
    "\n",
    "For this task we have provided the code for training and testing of the network in following blocks. Students are asked to design the network with different configurations  and observe the outputs.\n",
    "* **Single Layer Neural Network**\n",
    "* **Multiple Layer Neural Network**\n",
    "* **Different number of Hidden units**\n",
    "* **With and without activation function**"
   ]
  },
  {
   "cell_type": "code",
   "execution_count": 228,
   "metadata": {},
   "outputs": [],
   "source": [
    "class Optimizer(object):\n",
    "    '''\n",
    "    This is a basic class. \n",
    "    All other optimizers will inherit it\n",
    "    '''\n",
    "    def __init__(self, model, lr=0.01, weight_decay=0.0):\n",
    "        self.model = model\n",
    "        self.lr = lr\n",
    "        self.weight_decay = weight_decay\n",
    "        \n",
    "    def update_params(self):\n",
    "        pass\n",
    "\n",
    "\n",
    "class SGD(Optimizer):\n",
    "    '''\n",
    "    Stochastic gradient descent optimizer\n",
    "    https://en.wikipedia.org/wiki/Stochastic_gradient_descent\n",
    "    '''\n",
    "        \n",
    "    def update_params(self):\n",
    "        weights = self.model.get_params()\n",
    "#         print('weights')\n",
    "#         print(weights)\n",
    "        grads = self.model.get_params_gradients()\n",
    "#         print('grads')\n",
    "#         print(grads)\n",
    "\n",
    "        for w, dw in zip(weights, grads):\n",
    "            w = np.atleast_2d(w)\n",
    "            dw = np.atleast_2d(dw)\n",
    "            update = self.lr * dw + self.weight_decay * w\n",
    "#             print(update)\n",
    "            \n",
    "            # it writes the result to the previous variable instead of copying\n",
    "            np.subtract(w, update, out=w) "
   ]
  },
  {
   "cell_type": "code",
   "execution_count": 244,
   "metadata": {},
   "outputs": [
    {
     "name": "stdout",
     "output_type": "stream",
     "text": [
      "Step: 1, \tLoss = 6.14\n",
      "Step: 2, \tLoss = 3.33\n",
      "Step: 3, \tLoss = 2.35\n",
      "Step: 4, \tLoss = 1.99\n",
      "Step: 5, \tLoss = 1.83\n",
      "Step: 6, \tLoss = 1.75\n",
      "Step: 7, \tLoss = 1.70\n",
      "Step: 8, \tLoss = 1.66\n",
      "Step: 9, \tLoss = 1.61\n",
      "Step: 10, \tLoss = 1.57\n",
      "Step: 11, \tLoss = 1.55\n",
      "Step: 12, \tLoss = 1.49\n",
      "Step: 13, \tLoss = 1.44\n",
      "Step: 14, \tLoss = 1.40\n",
      "Step: 15, \tLoss = 1.31\n",
      "Step: 16, \tLoss = 1.29\n",
      "Step: 17, \tLoss = 1.20\n",
      "Step: 18, \tLoss = 1.14\n",
      "Step: 19, \tLoss = 1.15\n",
      "Step: 20, \tLoss = 1.06\n",
      "Step: 21, \tLoss = 1.06\n",
      "Step: 22, \tLoss = 0.99\n",
      "Step: 23, \tLoss = 0.99\n",
      "Step: 24, \tLoss = 0.93\n",
      "Step: 25, \tLoss = 0.92\n",
      "Step: 26, \tLoss = 0.84\n",
      "Step: 27, \tLoss = 0.84\n",
      "Step: 28, \tLoss = 0.77\n",
      "Step: 29, \tLoss = 0.77\n",
      "Step: 30, \tLoss = 0.70\n",
      "Step: 31, \tLoss = 0.69\n",
      "Step: 32, \tLoss = 0.63\n",
      "Step: 33, \tLoss = 0.61\n",
      "Step: 34, \tLoss = 0.56\n",
      "Step: 35, \tLoss = 0.58\n",
      "Step: 36, \tLoss = 0.59\n",
      "Step: 37, \tLoss = 0.55\n",
      "Step: 38, \tLoss = 0.53\n",
      "Step: 39, \tLoss = 0.52\n",
      "Step: 40, \tLoss = 0.44\n",
      "Step: 41, \tLoss = 0.48\n",
      "Step: 42, \tLoss = 0.35\n",
      "Step: 43, \tLoss = 0.43\n",
      "Step: 44, \tLoss = 0.27\n",
      "Step: 45, \tLoss = 0.35\n",
      "Step: 46, \tLoss = 0.21\n",
      "Step: 47, \tLoss = 0.24\n",
      "Step: 48, \tLoss = 0.19\n",
      "Step: 49, \tLoss = 0.25\n",
      "Step: 50, \tLoss = 0.21\n",
      "Step: 51, \tLoss = 0.27\n",
      "Step: 52, \tLoss = 0.21\n",
      "Step: 53, \tLoss = 0.20\n",
      "Step: 54, \tLoss = 0.16\n",
      "Step: 55, \tLoss = 0.20\n",
      "Step: 56, \tLoss = 0.15\n",
      "Step: 57, \tLoss = 0.14\n",
      "Step: 58, \tLoss = 0.14\n",
      "Step: 59, \tLoss = 0.18\n",
      "Step: 60, \tLoss = 0.14\n",
      "Step: 61, \tLoss = 0.14\n",
      "Step: 62, \tLoss = 0.14\n",
      "Step: 63, \tLoss = 0.18\n",
      "Step: 64, \tLoss = 0.15\n",
      "Step: 65, \tLoss = 0.17\n",
      "Step: 66, \tLoss = 0.16\n",
      "Step: 67, \tLoss = 0.17\n",
      "Step: 68, \tLoss = 0.15\n",
      "Step: 69, \tLoss = 0.17\n",
      "Step: 70, \tLoss = 0.16\n",
      "Step: 71, \tLoss = 0.17\n",
      "Step: 72, \tLoss = 0.13\n",
      "Step: 73, \tLoss = 0.14\n",
      "Step: 74, \tLoss = 0.14\n",
      "Step: 75, \tLoss = 0.19\n",
      "Step: 76, \tLoss = 0.15\n",
      "Step: 77, \tLoss = 0.12\n",
      "Step: 78, \tLoss = 0.13\n",
      "Step: 79, \tLoss = 0.17\n",
      "Step: 80, \tLoss = 0.11\n",
      "Step: 81, \tLoss = 0.10\n",
      "Step: 82, \tLoss = 0.09\n",
      "Step: 83, \tLoss = 0.09\n",
      "Step: 84, \tLoss = 0.09\n",
      "Step: 85, \tLoss = 0.09\n",
      "Step: 86, \tLoss = 0.10\n",
      "Step: 87, \tLoss = 0.13\n",
      "Step: 88, \tLoss = 0.32\n",
      "Step: 89, \tLoss = 0.39\n",
      "Step: 90, \tLoss = 0.53\n",
      "Step: 91, \tLoss = 0.26\n",
      "Step: 92, \tLoss = 0.25\n",
      "Step: 93, \tLoss = 0.13\n",
      "Step: 94, \tLoss = 0.10\n",
      "Step: 95, \tLoss = 0.09\n",
      "Step: 96, \tLoss = 0.09\n",
      "Step: 97, \tLoss = 0.09\n",
      "Step: 98, \tLoss = 0.09\n",
      "Step: 99, \tLoss = 0.09\n",
      "Step: 100, \tLoss = 0.10\n",
      "Step: 101, \tLoss = 0.12\n",
      "Step: 102, \tLoss = 0.18\n",
      "Step: 103, \tLoss = 0.20\n",
      "Step: 104, \tLoss = 0.31\n",
      "Step: 105, \tLoss = 0.23\n",
      "Step: 106, \tLoss = 0.31\n",
      "Step: 107, \tLoss = 0.21\n",
      "Step: 108, \tLoss = 0.22\n",
      "Step: 109, \tLoss = 0.11\n",
      "Step: 110, \tLoss = 0.09\n",
      "Step: 111, \tLoss = 0.09\n",
      "Step: 112, \tLoss = 0.08\n",
      "Step: 113, \tLoss = 0.08\n",
      "Step: 114, \tLoss = 0.08\n",
      "Step: 115, \tLoss = 0.08\n",
      "Step: 116, \tLoss = 0.08\n",
      "Step: 117, \tLoss = 0.08\n",
      "Step: 118, \tLoss = 0.11\n",
      "Step: 119, \tLoss = 0.17\n",
      "Step: 120, \tLoss = 0.37\n",
      "Step: 121, \tLoss = 0.40\n",
      "Step: 122, \tLoss = 0.45\n",
      "Step: 123, \tLoss = 0.22\n",
      "Step: 124, \tLoss = 0.18\n",
      "Step: 125, \tLoss = 0.09\n",
      "Step: 126, \tLoss = 0.08\n",
      "Step: 127, \tLoss = 0.08\n",
      "Step: 128, \tLoss = 0.08\n",
      "Step: 129, \tLoss = 0.08\n",
      "Step: 130, \tLoss = 0.08\n",
      "Step: 131, \tLoss = 0.08\n",
      "Step: 132, \tLoss = 0.08\n",
      "Step: 133, \tLoss = 0.07\n",
      "Step: 134, \tLoss = 0.08\n",
      "Step: 135, \tLoss = 0.09\n",
      "Step: 136, \tLoss = 0.17\n",
      "Step: 137, \tLoss = 0.42\n",
      "Step: 138, \tLoss = 0.32\n",
      "Step: 139, \tLoss = 0.39\n",
      "Step: 140, \tLoss = 0.26\n",
      "Step: 141, \tLoss = 0.25\n",
      "Step: 142, \tLoss = 0.09\n",
      "Step: 143, \tLoss = 0.08\n",
      "Step: 144, \tLoss = 0.08\n",
      "Step: 145, \tLoss = 0.08\n",
      "Step: 146, \tLoss = 0.07\n",
      "Step: 147, \tLoss = 0.07\n",
      "Step: 148, \tLoss = 0.07\n",
      "Step: 149, \tLoss = 0.07\n",
      "Step: 150, \tLoss = 0.08\n",
      "Step: 151, \tLoss = 0.09\n",
      "Step: 152, \tLoss = 0.15\n",
      "Step: 153, \tLoss = 0.33\n",
      "Step: 154, \tLoss = 0.36\n",
      "Step: 155, \tLoss = 0.39\n",
      "Step: 156, \tLoss = 0.20\n",
      "Step: 157, \tLoss = 0.21\n",
      "Step: 158, \tLoss = 0.08\n",
      "Step: 159, \tLoss = 0.08\n",
      "Step: 160, \tLoss = 0.07\n",
      "Step: 161, \tLoss = 0.07\n",
      "Step: 162, \tLoss = 0.07\n",
      "Step: 163, \tLoss = 0.07\n",
      "Step: 164, \tLoss = 0.07\n",
      "Step: 165, \tLoss = 0.07\n",
      "Step: 166, \tLoss = 0.09\n",
      "Step: 167, \tLoss = 0.12\n",
      "Step: 168, \tLoss = 0.15\n",
      "Step: 169, \tLoss = 0.27\n",
      "Step: 170, \tLoss = 0.28\n",
      "Step: 171, \tLoss = 0.36\n",
      "Step: 172, \tLoss = 0.23\n",
      "Step: 173, \tLoss = 0.24\n",
      "Step: 174, \tLoss = 0.08\n",
      "Step: 175, \tLoss = 0.08\n",
      "Step: 176, \tLoss = 0.07\n",
      "Step: 177, \tLoss = 0.07\n",
      "Step: 178, \tLoss = 0.07\n",
      "Step: 179, \tLoss = 0.07\n",
      "Step: 180, \tLoss = 0.07\n",
      "Step: 181, \tLoss = 0.07\n",
      "Step: 182, \tLoss = 0.07\n",
      "Step: 183, \tLoss = 0.08\n",
      "Step: 184, \tLoss = 0.10\n",
      "Step: 185, \tLoss = 0.16\n",
      "Step: 186, \tLoss = 0.36\n",
      "Step: 187, \tLoss = 0.31\n",
      "Step: 188, \tLoss = 0.38\n",
      "Step: 189, \tLoss = 0.19\n",
      "Step: 190, \tLoss = 0.23\n",
      "Step: 191, \tLoss = 0.08\n",
      "Step: 192, \tLoss = 0.07\n",
      "Step: 193, \tLoss = 0.07\n",
      "Step: 194, \tLoss = 0.07\n",
      "Step: 195, \tLoss = 0.07\n",
      "Step: 196, \tLoss = 0.07\n",
      "Step: 197, \tLoss = 0.07\n",
      "Step: 198, \tLoss = 0.07\n",
      "Step: 199, \tLoss = 0.07\n",
      "Step: 200, \tLoss = 0.09\n",
      "Step: 201, \tLoss = 0.12\n",
      "Step: 202, \tLoss = 0.15\n",
      "Step: 203, \tLoss = 0.27\n",
      "Step: 204, \tLoss = 0.34\n",
      "Step: 205, \tLoss = 0.45\n",
      "Step: 206, \tLoss = 0.14\n",
      "Step: 207, \tLoss = 0.12\n",
      "Step: 208, \tLoss = 0.09\n",
      "Step: 209, \tLoss = 0.07\n",
      "Step: 210, \tLoss = 0.07\n",
      "Step: 211, \tLoss = 0.07\n",
      "Step: 212, \tLoss = 0.07\n",
      "Step: 213, \tLoss = 0.07\n",
      "Step: 214, \tLoss = 0.07\n",
      "Step: 215, \tLoss = 0.07\n",
      "Step: 216, \tLoss = 0.08\n",
      "Step: 217, \tLoss = 0.13\n",
      "Step: 218, \tLoss = 0.24\n",
      "Step: 219, \tLoss = 0.33\n",
      "Step: 220, \tLoss = 0.42\n",
      "Step: 221, \tLoss = 0.16\n",
      "Step: 222, \tLoss = 0.18\n",
      "Step: 223, \tLoss = 0.08\n",
      "Step: 224, \tLoss = 0.07\n",
      "Step: 225, \tLoss = 0.07\n",
      "Step: 226, \tLoss = 0.07\n",
      "Step: 227, \tLoss = 0.07\n",
      "Step: 228, \tLoss = 0.07\n",
      "Step: 229, \tLoss = 0.07\n",
      "Step: 230, \tLoss = 0.07\n",
      "Step: 231, \tLoss = 0.08\n",
      "Step: 232, \tLoss = 0.10\n",
      "Step: 233, \tLoss = 0.14\n",
      "Step: 234, \tLoss = 0.33\n",
      "Step: 235, \tLoss = 0.31\n",
      "Step: 236, \tLoss = 0.37\n",
      "Step: 237, \tLoss = 0.18\n",
      "Step: 238, \tLoss = 0.17\n",
      "Step: 239, \tLoss = 0.07\n",
      "Step: 240, \tLoss = 0.07\n",
      "Step: 241, \tLoss = 0.07\n",
      "Step: 242, \tLoss = 0.07\n",
      "Step: 243, \tLoss = 0.07\n",
      "Step: 244, \tLoss = 0.07\n",
      "Step: 245, \tLoss = 0.07\n",
      "Step: 246, \tLoss = 0.07\n",
      "Step: 247, \tLoss = 0.07\n",
      "Step: 248, \tLoss = 0.07\n",
      "Step: 249, \tLoss = 0.07\n",
      "Step: 250, \tLoss = 0.08\n",
      "Step: 251, \tLoss = 0.09\n",
      "Step: 252, \tLoss = 0.12\n",
      "Step: 253, \tLoss = 0.14\n",
      "Step: 254, \tLoss = 0.30\n",
      "Step: 255, \tLoss = 0.36\n",
      "Step: 256, \tLoss = 0.45\n",
      "Step: 257, \tLoss = 0.13\n",
      "Step: 258, \tLoss = 0.11\n",
      "Step: 259, \tLoss = 0.07\n",
      "Step: 260, \tLoss = 0.07\n",
      "Step: 261, \tLoss = 0.07\n",
      "Step: 262, \tLoss = 0.07\n",
      "Step: 263, \tLoss = 0.07\n",
      "Step: 264, \tLoss = 0.07\n",
      "Step: 265, \tLoss = 0.07\n",
      "Step: 266, \tLoss = 0.09\n",
      "Step: 267, \tLoss = 0.12\n",
      "Step: 268, \tLoss = 0.13\n",
      "Step: 269, \tLoss = 0.26\n",
      "Step: 270, \tLoss = 0.32\n",
      "Step: 271, \tLoss = 0.37\n",
      "Step: 272, \tLoss = 0.16\n",
      "Step: 273, \tLoss = 0.16\n",
      "Step: 274, \tLoss = 0.07\n",
      "Step: 275, \tLoss = 0.07\n",
      "Step: 276, \tLoss = 0.07\n",
      "Step: 277, \tLoss = 0.07\n",
      "Step: 278, \tLoss = 0.07\n",
      "Step: 279, \tLoss = 0.07\n",
      "Step: 280, \tLoss = 0.06\n",
      "Step: 281, \tLoss = 0.06\n",
      "Step: 282, \tLoss = 0.07\n",
      "Step: 283, \tLoss = 0.11\n",
      "Step: 284, \tLoss = 0.18\n",
      "Step: 285, \tLoss = 0.19\n",
      "Step: 286, \tLoss = 0.37\n",
      "Step: 287, \tLoss = 0.22\n",
      "Step: 288, \tLoss = 0.28\n",
      "Step: 289, \tLoss = 0.17\n",
      "Step: 290, \tLoss = 0.17\n",
      "Step: 291, \tLoss = 0.07\n",
      "Step: 292, \tLoss = 0.07\n",
      "Step: 293, \tLoss = 0.07\n",
      "Step: 294, \tLoss = 0.07\n",
      "Step: 295, \tLoss = 0.07\n",
      "Step: 296, \tLoss = 0.07\n",
      "Step: 297, \tLoss = 0.07\n",
      "Step: 298, \tLoss = 0.06\n",
      "Step: 299, \tLoss = 0.06\n",
      "Step: 300, \tLoss = 0.07\n",
      "Step: 301, \tLoss = 0.08\n",
      "Step: 302, \tLoss = 0.12\n",
      "Step: 303, \tLoss = 0.24\n",
      "Step: 304, \tLoss = 0.34\n",
      "Step: 305, \tLoss = 0.43\n",
      "Step: 306, \tLoss = 0.13\n",
      "Step: 307, \tLoss = 0.10\n",
      "Step: 308, \tLoss = 0.07\n",
      "Step: 309, \tLoss = 0.07\n",
      "Step: 310, \tLoss = 0.07\n",
      "Step: 311, \tLoss = 0.07\n",
      "Step: 312, \tLoss = 0.06\n",
      "Step: 313, \tLoss = 0.06\n",
      "Step: 314, \tLoss = 0.07\n",
      "Step: 315, \tLoss = 0.07\n",
      "Step: 316, \tLoss = 0.11\n",
      "Step: 317, \tLoss = 0.19\n",
      "Step: 318, \tLoss = 0.26\n",
      "Step: 319, \tLoss = 0.41\n",
      "Step: 320, \tLoss = 0.16\n",
      "Step: 321, \tLoss = 0.24\n",
      "Step: 322, \tLoss = 0.12\n",
      "Step: 323, \tLoss = 0.08\n",
      "Step: 324, \tLoss = 0.07\n",
      "Step: 325, \tLoss = 0.07\n",
      "Step: 326, \tLoss = 0.07\n",
      "Step: 327, \tLoss = 0.07\n",
      "Step: 328, \tLoss = 0.07\n",
      "Step: 329, \tLoss = 0.06\n",
      "Step: 330, \tLoss = 0.07\n",
      "Step: 331, \tLoss = 0.10\n",
      "Step: 332, \tLoss = 0.11\n",
      "Step: 333, \tLoss = 0.13\n",
      "Step: 334, \tLoss = 0.19\n",
      "Step: 335, \tLoss = 0.18\n",
      "Step: 336, \tLoss = 0.30\n",
      "Step: 337, \tLoss = 0.23\n",
      "Step: 338, \tLoss = 0.22\n",
      "Step: 339, \tLoss = 0.08\n",
      "Step: 340, \tLoss = 0.07\n",
      "Step: 341, \tLoss = 0.07\n",
      "Step: 342, \tLoss = 0.07\n",
      "Step: 343, \tLoss = 0.07\n",
      "Step: 344, \tLoss = 0.07\n",
      "Step: 345, \tLoss = 0.06\n",
      "Step: 346, \tLoss = 0.06\n",
      "Step: 347, \tLoss = 0.06\n",
      "Step: 348, \tLoss = 0.07\n",
      "Step: 349, \tLoss = 0.08\n",
      "Step: 350, \tLoss = 0.10\n",
      "Step: 351, \tLoss = 0.16\n",
      "Step: 352, \tLoss = 0.31\n",
      "Step: 353, \tLoss = 0.25\n",
      "Step: 354, \tLoss = 0.36\n",
      "Step: 355, \tLoss = 0.17\n",
      "Step: 356, \tLoss = 0.16\n",
      "Step: 357, \tLoss = 0.07\n",
      "Step: 358, \tLoss = 0.07\n",
      "Step: 359, \tLoss = 0.07\n",
      "Step: 360, \tLoss = 0.07\n",
      "Step: 361, \tLoss = 0.06\n",
      "Step: 362, \tLoss = 0.07\n",
      "Step: 363, \tLoss = 0.07\n",
      "Step: 364, \tLoss = 0.09\n",
      "Step: 365, \tLoss = 0.11\n",
      "Step: 366, \tLoss = 0.12\n",
      "Step: 367, \tLoss = 0.16\n",
      "Step: 368, \tLoss = 0.13\n",
      "Step: 369, \tLoss = 0.18\n",
      "Step: 370, \tLoss = 0.13\n",
      "Step: 371, \tLoss = 0.13\n",
      "Step: 372, \tLoss = 0.08\n",
      "Step: 373, \tLoss = 0.07\n",
      "Step: 374, \tLoss = 0.07\n",
      "Step: 375, \tLoss = 0.06\n",
      "Step: 376, \tLoss = 0.06\n",
      "Step: 377, \tLoss = 0.07\n",
      "Step: 378, \tLoss = 0.07\n",
      "Step: 379, \tLoss = 0.13\n",
      "Step: 380, \tLoss = 0.25\n",
      "Step: 381, \tLoss = 0.35\n",
      "Step: 382, \tLoss = 0.50\n",
      "Step: 383, \tLoss = 0.09\n",
      "Step: 384, \tLoss = 0.07\n",
      "Step: 385, \tLoss = 0.07\n",
      "Step: 386, \tLoss = 0.07\n",
      "Step: 387, \tLoss = 0.06\n",
      "Step: 388, \tLoss = 0.06\n",
      "Step: 389, \tLoss = 0.07\n",
      "Step: 390, \tLoss = 0.08\n",
      "Step: 391, \tLoss = 0.12\n",
      "Step: 392, \tLoss = 0.22\n",
      "Step: 393, \tLoss = 0.27\n",
      "Step: 394, \tLoss = 0.35\n",
      "Step: 395, \tLoss = 0.17\n",
      "Step: 396, \tLoss = 0.19\n",
      "Step: 397, \tLoss = 0.07\n",
      "Step: 398, \tLoss = 0.07\n",
      "Step: 399, \tLoss = 0.07\n",
      "Step: 400, \tLoss = 0.07\n",
      "Step: 401, \tLoss = 0.07\n",
      "Step: 402, \tLoss = 0.06\n",
      "Step: 403, \tLoss = 0.06\n",
      "Step: 404, \tLoss = 0.06\n",
      "Step: 405, \tLoss = 0.07\n",
      "Step: 406, \tLoss = 0.07\n",
      "Step: 407, \tLoss = 0.08\n",
      "Step: 408, \tLoss = 0.10\n",
      "Step: 409, \tLoss = 0.17\n",
      "Step: 410, \tLoss = 0.36\n",
      "Step: 411, \tLoss = 0.25\n",
      "Step: 412, \tLoss = 0.33\n",
      "Step: 413, \tLoss = 0.19\n",
      "Step: 414, \tLoss = 0.22\n",
      "Step: 415, \tLoss = 0.08\n",
      "Step: 416, \tLoss = 0.07\n",
      "Step: 417, \tLoss = 0.07\n",
      "Step: 418, \tLoss = 0.07\n",
      "Step: 419, \tLoss = 0.07\n",
      "Step: 420, \tLoss = 0.07\n",
      "Step: 421, \tLoss = 0.06\n",
      "Step: 422, \tLoss = 0.06\n",
      "Step: 423, \tLoss = 0.07\n",
      "Step: 424, \tLoss = 0.09\n",
      "Step: 425, \tLoss = 0.13\n",
      "Step: 426, \tLoss = 0.25\n",
      "Step: 427, \tLoss = 0.22\n",
      "Step: 428, \tLoss = 0.31\n",
      "Step: 429, \tLoss = 0.19\n",
      "Step: 430, \tLoss = 0.19\n",
      "Step: 431, \tLoss = 0.07\n",
      "Step: 432, \tLoss = 0.07\n",
      "Step: 433, \tLoss = 0.07\n",
      "Step: 434, \tLoss = 0.07\n",
      "Step: 435, \tLoss = 0.07\n",
      "Step: 436, \tLoss = 0.06\n",
      "Step: 437, \tLoss = 0.06\n",
      "Step: 438, \tLoss = 0.07\n",
      "Step: 439, \tLoss = 0.08\n",
      "Step: 440, \tLoss = 0.11\n",
      "Step: 441, \tLoss = 0.13\n",
      "Step: 442, \tLoss = 0.27\n",
      "Step: 443, \tLoss = 0.25\n",
      "Step: 444, \tLoss = 0.31\n",
      "Step: 445, \tLoss = 0.19\n",
      "Step: 446, \tLoss = 0.17\n",
      "Step: 447, \tLoss = 0.07\n",
      "Step: 448, \tLoss = 0.07\n",
      "Step: 449, \tLoss = 0.07\n",
      "Step: 450, \tLoss = 0.07\n",
      "Step: 451, \tLoss = 0.06\n",
      "Step: 452, \tLoss = 0.06\n",
      "Step: 453, \tLoss = 0.06\n",
      "Step: 454, \tLoss = 0.07\n",
      "Step: 455, \tLoss = 0.07\n",
      "Step: 456, \tLoss = 0.12\n",
      "Step: 457, \tLoss = 0.22\n",
      "Step: 458, \tLoss = 0.24\n",
      "Step: 459, \tLoss = 0.32\n",
      "Step: 460, \tLoss = 0.19\n",
      "Step: 461, \tLoss = 0.20\n",
      "Step: 462, \tLoss = 0.07\n",
      "Step: 463, \tLoss = 0.07\n",
      "Step: 464, \tLoss = 0.07\n",
      "Step: 465, \tLoss = 0.07\n",
      "Step: 466, \tLoss = 0.07\n",
      "Step: 467, \tLoss = 0.06\n",
      "Step: 468, \tLoss = 0.06\n",
      "Step: 469, \tLoss = 0.07\n",
      "Step: 470, \tLoss = 0.08\n",
      "Step: 471, \tLoss = 0.10\n",
      "Step: 472, \tLoss = 0.14\n",
      "Step: 473, \tLoss = 0.29\n",
      "Step: 474, \tLoss = 0.21\n",
      "Step: 475, \tLoss = 0.30\n",
      "Step: 476, \tLoss = 0.19\n",
      "Step: 477, \tLoss = 0.19\n",
      "Step: 478, \tLoss = 0.07\n",
      "Step: 479, \tLoss = 0.07\n",
      "Step: 480, \tLoss = 0.07\n",
      "Step: 481, \tLoss = 0.07\n",
      "Step: 482, \tLoss = 0.07\n",
      "Step: 483, \tLoss = 0.06\n",
      "Step: 484, \tLoss = 0.06\n",
      "Step: 485, \tLoss = 0.07\n",
      "Step: 486, \tLoss = 0.08\n",
      "Step: 487, \tLoss = 0.12\n",
      "Step: 488, \tLoss = 0.22\n",
      "Step: 489, \tLoss = 0.22\n",
      "Step: 490, \tLoss = 0.32\n",
      "Step: 491, \tLoss = 0.19\n",
      "Step: 492, \tLoss = 0.20\n",
      "Step: 493, \tLoss = 0.08\n",
      "Step: 494, \tLoss = 0.07\n",
      "Step: 495, \tLoss = 0.07\n",
      "Step: 496, \tLoss = 0.07\n",
      "Step: 497, \tLoss = 0.07\n",
      "Step: 498, \tLoss = 0.07\n",
      "Step: 499, \tLoss = 0.06\n",
      "Step: 500, \tLoss = 0.06\n"
     ]
    }
   ],
   "source": [
    "##Training the network ##\n",
    "model = SequentialNN()\n",
    "\n",
    "###YOUR CODE FOR DESIGNING THE NETWORK ###\n",
    "\n",
    "model.add(Dense(2,4))\n",
    "model.add(ReLU())\n",
    "model.add(Dense(4,5))\n",
    "model.add(ReLU())\n",
    "model.add(Dense(5,2))\n",
    "\n",
    "\n",
    "loss = Hinge()\n",
    "weight_decay = 0.01\n",
    "sgd = SGD(model, lr=0.15, weight_decay=weight_decay)\n",
    "epochs = 500 # Number of times to iterate over all data objects\n",
    "\n",
    "model.set_training_phase(True)\n",
    "\n",
    "for i in range(epochs):\n",
    "    # get the predictions\n",
    "    y_pred = model.forward(X)\n",
    "    \n",
    "    # compute the loss value + L_2 term\n",
    "    loss_value = loss.forward(y_pred, Y) + l2_regularizer(weight_decay, model.get_params())\n",
    "    \n",
    "    # log the current loss value\n",
    "    print('Step: {}, \\tLoss = {:.2f}'.format(i+1, loss_value))\n",
    "    \n",
    "    # get the gradient of the loss functions\n",
    "    loss_grad = loss.backward(y_pred, Y)\n",
    "#     print(loss_grad.shape)\n",
    "\n",
    "    # backprop the gradients\n",
    "    model.backward(X, loss_grad)\n",
    "    \n",
    "    # perform the updates\n",
    "    sgd.update_params()"
   ]
  },
  {
   "cell_type": "code",
   "execution_count": 231,
   "metadata": {},
   "outputs": [
    {
     "data": {
      "text/plain": [
       "array([[-1.11270501, -0.59092341, -1.67718939],\n",
       "       [ 0.33897011, -1.3163587 ,  0.42112397]])"
      ]
     },
     "execution_count": 231,
     "metadata": {},
     "output_type": "execute_result"
    }
   ],
   "source": [
    "w= [[-1.11270501, -0.59092341, -1.67718939],\n",
    " [ 0.33897011, -1.3163587,   0.42112397]]\n",
    "\n",
    "dw=[[-0.11112449, -0.1156806,  -0.06724057],\n",
    "     [-0.0077226,  -0.25144992,  0.05678908]]\n",
    "\n",
    "np.atleast_2d(w)"
   ]
  },
  {
   "cell_type": "code",
   "execution_count": 245,
   "metadata": {},
   "outputs": [
    {
     "ename": "ValueError",
     "evalue": "c of shape (400,) not acceptable as a color sequence for x with size 200, y with size 200",
     "output_type": "error",
     "traceback": [
      "\u001b[0;31m---------------------------------------------------------------------------\u001b[0m",
      "\u001b[0;31mKeyError\u001b[0m                                  Traceback (most recent call last)",
      "\u001b[0;32m~/anaconda3/lib/python3.7/site-packages/matplotlib/colors.py\u001b[0m in \u001b[0;36mto_rgba\u001b[0;34m(c, alpha)\u001b[0m\n\u001b[1;32m    165\u001b[0m     \u001b[0;32mtry\u001b[0m\u001b[0;34m:\u001b[0m\u001b[0;34m\u001b[0m\u001b[0m\n\u001b[0;32m--> 166\u001b[0;31m         \u001b[0mrgba\u001b[0m \u001b[0;34m=\u001b[0m \u001b[0m_colors_full_map\u001b[0m\u001b[0;34m.\u001b[0m\u001b[0mcache\u001b[0m\u001b[0;34m[\u001b[0m\u001b[0mc\u001b[0m\u001b[0;34m,\u001b[0m \u001b[0malpha\u001b[0m\u001b[0;34m]\u001b[0m\u001b[0;34m\u001b[0m\u001b[0m\n\u001b[0m\u001b[1;32m    167\u001b[0m     \u001b[0;32mexcept\u001b[0m \u001b[0;34m(\u001b[0m\u001b[0mKeyError\u001b[0m\u001b[0;34m,\u001b[0m \u001b[0mTypeError\u001b[0m\u001b[0;34m)\u001b[0m\u001b[0;34m:\u001b[0m  \u001b[0;31m# Not in cache, or unhashable.\u001b[0m\u001b[0;34m\u001b[0m\u001b[0m\n",
      "\u001b[0;31mKeyError\u001b[0m: (True, None)",
      "\nDuring handling of the above exception, another exception occurred:\n",
      "\u001b[0;31mValueError\u001b[0m                                Traceback (most recent call last)",
      "\u001b[0;32m~/anaconda3/lib/python3.7/site-packages/matplotlib/axes/_axes.py\u001b[0m in \u001b[0;36mscatter\u001b[0;34m(self, x, y, s, c, marker, cmap, norm, vmin, vmax, alpha, linewidths, verts, edgecolors, **kwargs)\u001b[0m\n\u001b[1;32m   4287\u001b[0m                 \u001b[0;31m# must be acceptable as PathCollection facecolors\u001b[0m\u001b[0;34m\u001b[0m\u001b[0;34m\u001b[0m\u001b[0m\n\u001b[0;32m-> 4288\u001b[0;31m                 \u001b[0mcolors\u001b[0m \u001b[0;34m=\u001b[0m \u001b[0mmcolors\u001b[0m\u001b[0;34m.\u001b[0m\u001b[0mto_rgba_array\u001b[0m\u001b[0;34m(\u001b[0m\u001b[0mc\u001b[0m\u001b[0;34m)\u001b[0m\u001b[0;34m\u001b[0m\u001b[0m\n\u001b[0m\u001b[1;32m   4289\u001b[0m             \u001b[0;32mexcept\u001b[0m \u001b[0mValueError\u001b[0m\u001b[0;34m:\u001b[0m\u001b[0;34m\u001b[0m\u001b[0m\n",
      "\u001b[0;32m~/anaconda3/lib/python3.7/site-packages/matplotlib/colors.py\u001b[0m in \u001b[0;36mto_rgba_array\u001b[0;34m(c, alpha)\u001b[0m\n\u001b[1;32m    266\u001b[0m     \u001b[0;32mfor\u001b[0m \u001b[0mi\u001b[0m\u001b[0;34m,\u001b[0m \u001b[0mcc\u001b[0m \u001b[0;32min\u001b[0m \u001b[0menumerate\u001b[0m\u001b[0;34m(\u001b[0m\u001b[0mc\u001b[0m\u001b[0;34m)\u001b[0m\u001b[0;34m:\u001b[0m\u001b[0;34m\u001b[0m\u001b[0m\n\u001b[0;32m--> 267\u001b[0;31m         \u001b[0mresult\u001b[0m\u001b[0;34m[\u001b[0m\u001b[0mi\u001b[0m\u001b[0;34m]\u001b[0m \u001b[0;34m=\u001b[0m \u001b[0mto_rgba\u001b[0m\u001b[0;34m(\u001b[0m\u001b[0mcc\u001b[0m\u001b[0;34m,\u001b[0m \u001b[0malpha\u001b[0m\u001b[0;34m)\u001b[0m\u001b[0;34m\u001b[0m\u001b[0m\n\u001b[0m\u001b[1;32m    268\u001b[0m     \u001b[0;32mreturn\u001b[0m \u001b[0mresult\u001b[0m\u001b[0;34m\u001b[0m\u001b[0m\n",
      "\u001b[0;32m~/anaconda3/lib/python3.7/site-packages/matplotlib/colors.py\u001b[0m in \u001b[0;36mto_rgba\u001b[0;34m(c, alpha)\u001b[0m\n\u001b[1;32m    167\u001b[0m     \u001b[0;32mexcept\u001b[0m \u001b[0;34m(\u001b[0m\u001b[0mKeyError\u001b[0m\u001b[0;34m,\u001b[0m \u001b[0mTypeError\u001b[0m\u001b[0;34m)\u001b[0m\u001b[0;34m:\u001b[0m  \u001b[0;31m# Not in cache, or unhashable.\u001b[0m\u001b[0;34m\u001b[0m\u001b[0m\n\u001b[0;32m--> 168\u001b[0;31m         \u001b[0mrgba\u001b[0m \u001b[0;34m=\u001b[0m \u001b[0m_to_rgba_no_colorcycle\u001b[0m\u001b[0;34m(\u001b[0m\u001b[0mc\u001b[0m\u001b[0;34m,\u001b[0m \u001b[0malpha\u001b[0m\u001b[0;34m)\u001b[0m\u001b[0;34m\u001b[0m\u001b[0m\n\u001b[0m\u001b[1;32m    169\u001b[0m         \u001b[0;32mtry\u001b[0m\u001b[0;34m:\u001b[0m\u001b[0;34m\u001b[0m\u001b[0m\n",
      "\u001b[0;32m~/anaconda3/lib/python3.7/site-packages/matplotlib/colors.py\u001b[0m in \u001b[0;36m_to_rgba_no_colorcycle\u001b[0;34m(c, alpha)\u001b[0m\n\u001b[1;32m    218\u001b[0m         \u001b[0;31m# Test dimensionality to reject single floats.\u001b[0m\u001b[0;34m\u001b[0m\u001b[0;34m\u001b[0m\u001b[0m\n\u001b[0;32m--> 219\u001b[0;31m         \u001b[0;32mraise\u001b[0m \u001b[0mValueError\u001b[0m\u001b[0;34m(\u001b[0m\u001b[0;34m\"Invalid RGBA argument: {!r}\"\u001b[0m\u001b[0;34m.\u001b[0m\u001b[0mformat\u001b[0m\u001b[0;34m(\u001b[0m\u001b[0morig_c\u001b[0m\u001b[0;34m)\u001b[0m\u001b[0;34m)\u001b[0m\u001b[0;34m\u001b[0m\u001b[0m\n\u001b[0m\u001b[1;32m    220\u001b[0m     \u001b[0;31m# Return a tuple to prevent the cached value from being modified.\u001b[0m\u001b[0;34m\u001b[0m\u001b[0;34m\u001b[0m\u001b[0m\n",
      "\u001b[0;31mValueError\u001b[0m: Invalid RGBA argument: True",
      "\nDuring handling of the above exception, another exception occurred:\n",
      "\u001b[0;31mValueError\u001b[0m                                Traceback (most recent call last)",
      "\u001b[0;32m<ipython-input-245-3ae268af4e36>\u001b[0m in \u001b[0;36m<module>\u001b[0;34m()\u001b[0m\n\u001b[1;32m      2\u001b[0m \u001b[0mmodel\u001b[0m\u001b[0;34m.\u001b[0m\u001b[0mset_training_phase\u001b[0m\u001b[0;34m(\u001b[0m\u001b[0;32mFalse\u001b[0m\u001b[0;34m)\u001b[0m\u001b[0;34m\u001b[0m\u001b[0m\n\u001b[1;32m      3\u001b[0m \u001b[0my_pred\u001b[0m \u001b[0;34m=\u001b[0m \u001b[0mmodel\u001b[0m\u001b[0;34m.\u001b[0m\u001b[0mforward\u001b[0m\u001b[0;34m(\u001b[0m\u001b[0mX\u001b[0m\u001b[0;34m)\u001b[0m \u001b[0;34m>\u001b[0m \u001b[0;36m0\u001b[0m\u001b[0;34m\u001b[0m\u001b[0m\n\u001b[0;32m----> 4\u001b[0;31m \u001b[0mplt\u001b[0m\u001b[0;34m.\u001b[0m\u001b[0mscatter\u001b[0m\u001b[0;34m(\u001b[0m\u001b[0mX\u001b[0m\u001b[0;34m[\u001b[0m\u001b[0;34m:\u001b[0m\u001b[0;34m,\u001b[0m\u001b[0;36m0\u001b[0m\u001b[0;34m]\u001b[0m\u001b[0;34m,\u001b[0m \u001b[0mX\u001b[0m\u001b[0;34m[\u001b[0m\u001b[0;34m:\u001b[0m\u001b[0;34m,\u001b[0m\u001b[0;36m1\u001b[0m\u001b[0;34m]\u001b[0m\u001b[0;34m,\u001b[0m \u001b[0mc\u001b[0m \u001b[0;34m=\u001b[0m \u001b[0my_pred\u001b[0m\u001b[0;34m.\u001b[0m\u001b[0mravel\u001b[0m\u001b[0;34m(\u001b[0m\u001b[0;34m)\u001b[0m\u001b[0;34m)\u001b[0m\u001b[0;34m\u001b[0m\u001b[0m\n\u001b[0m",
      "\u001b[0;32m~/anaconda3/lib/python3.7/site-packages/matplotlib/pyplot.py\u001b[0m in \u001b[0;36mscatter\u001b[0;34m(x, y, s, c, marker, cmap, norm, vmin, vmax, alpha, linewidths, verts, edgecolors, hold, data, **kwargs)\u001b[0m\n\u001b[1;32m   3473\u001b[0m                          \u001b[0mvmin\u001b[0m\u001b[0;34m=\u001b[0m\u001b[0mvmin\u001b[0m\u001b[0;34m,\u001b[0m \u001b[0mvmax\u001b[0m\u001b[0;34m=\u001b[0m\u001b[0mvmax\u001b[0m\u001b[0;34m,\u001b[0m \u001b[0malpha\u001b[0m\u001b[0;34m=\u001b[0m\u001b[0malpha\u001b[0m\u001b[0;34m,\u001b[0m\u001b[0;34m\u001b[0m\u001b[0m\n\u001b[1;32m   3474\u001b[0m                          \u001b[0mlinewidths\u001b[0m\u001b[0;34m=\u001b[0m\u001b[0mlinewidths\u001b[0m\u001b[0;34m,\u001b[0m \u001b[0mverts\u001b[0m\u001b[0;34m=\u001b[0m\u001b[0mverts\u001b[0m\u001b[0;34m,\u001b[0m\u001b[0;34m\u001b[0m\u001b[0m\n\u001b[0;32m-> 3475\u001b[0;31m                          edgecolors=edgecolors, data=data, **kwargs)\n\u001b[0m\u001b[1;32m   3476\u001b[0m     \u001b[0;32mfinally\u001b[0m\u001b[0;34m:\u001b[0m\u001b[0;34m\u001b[0m\u001b[0m\n\u001b[1;32m   3477\u001b[0m         \u001b[0max\u001b[0m\u001b[0;34m.\u001b[0m\u001b[0m_hold\u001b[0m \u001b[0;34m=\u001b[0m \u001b[0mwashold\u001b[0m\u001b[0;34m\u001b[0m\u001b[0m\n",
      "\u001b[0;32m~/anaconda3/lib/python3.7/site-packages/matplotlib/__init__.py\u001b[0m in \u001b[0;36minner\u001b[0;34m(ax, *args, **kwargs)\u001b[0m\n\u001b[1;32m   1865\u001b[0m                         \u001b[0;34m\"the Matplotlib list!)\"\u001b[0m \u001b[0;34m%\u001b[0m \u001b[0;34m(\u001b[0m\u001b[0mlabel_namer\u001b[0m\u001b[0;34m,\u001b[0m \u001b[0mfunc\u001b[0m\u001b[0;34m.\u001b[0m\u001b[0m__name__\u001b[0m\u001b[0;34m)\u001b[0m\u001b[0;34m,\u001b[0m\u001b[0;34m\u001b[0m\u001b[0m\n\u001b[1;32m   1866\u001b[0m                         RuntimeWarning, stacklevel=2)\n\u001b[0;32m-> 1867\u001b[0;31m             \u001b[0;32mreturn\u001b[0m \u001b[0mfunc\u001b[0m\u001b[0;34m(\u001b[0m\u001b[0max\u001b[0m\u001b[0;34m,\u001b[0m \u001b[0;34m*\u001b[0m\u001b[0margs\u001b[0m\u001b[0;34m,\u001b[0m \u001b[0;34m**\u001b[0m\u001b[0mkwargs\u001b[0m\u001b[0;34m)\u001b[0m\u001b[0;34m\u001b[0m\u001b[0m\n\u001b[0m\u001b[1;32m   1868\u001b[0m \u001b[0;34m\u001b[0m\u001b[0m\n\u001b[1;32m   1869\u001b[0m         inner.__doc__ = _add_data_doc(inner.__doc__,\n",
      "\u001b[0;32m~/anaconda3/lib/python3.7/site-packages/matplotlib/axes/_axes.py\u001b[0m in \u001b[0;36mscatter\u001b[0;34m(self, x, y, s, c, marker, cmap, norm, vmin, vmax, alpha, linewidths, verts, edgecolors, **kwargs)\u001b[0m\n\u001b[1;32m   4291\u001b[0m                 raise ValueError(\"c of shape {} not acceptable as a color \"\n\u001b[1;32m   4292\u001b[0m                                  \u001b[0;34m\"sequence for x with size {}, y with size {}\"\u001b[0m\u001b[0;34m\u001b[0m\u001b[0m\n\u001b[0;32m-> 4293\u001b[0;31m                                  .format(c.shape, x.size, y.size))\n\u001b[0m\u001b[1;32m   4294\u001b[0m         \u001b[0;32melse\u001b[0m\u001b[0;34m:\u001b[0m\u001b[0;34m\u001b[0m\u001b[0m\n\u001b[1;32m   4295\u001b[0m             \u001b[0mcolors\u001b[0m \u001b[0;34m=\u001b[0m \u001b[0;32mNone\u001b[0m  \u001b[0;31m# use cmap, norm after collection is created\u001b[0m\u001b[0;34m\u001b[0m\u001b[0m\n",
      "\u001b[0;31mValueError\u001b[0m: c of shape (400,) not acceptable as a color sequence for x with size 200, y with size 200"
     ]
    },
    {
     "data": {
      "image/png": "[encoded data removed]",
      "text/plain": [
       "<Figure size 432x288 with 1 Axes>"
      ]
     },
     "metadata": {
      "needs_background": "light"
     },
     "output_type": "display_data"
    }
   ],
   "source": [
    "##Testing the network ##\n",
    "model.set_training_phase(False)\n",
    "y_pred = model.forward(X) > 0\n",
    "plt.scatter(X[:,0], X[:,1], c = y_pred.ravel())"
   ]
  },
  {
   "cell_type": "markdown",
   "metadata": {},
   "source": [
    "# 10. Digits Classification Task"
   ]
  },
  {
   "cell_type": "markdown",
   "metadata": {},
   "source": [
    "In this task you will implement a neural network for classification of hand written digits. You can use the blocks of code which you implemented in the first part of this assignment for completing this task.\n",
    "\n",
    "We will use **digits** dataset for this task. This dataset consists of 1797 8x8 images. Further information about the dataset can be found [here](http://archive.ics.uci.edu/ml/datasets/Pen-Based+Recognition+of+Handwritten+Digits). "
   ]
  },
  {
   "cell_type": "code",
   "execution_count": 82,
   "metadata": {},
   "outputs": [
    {
     "data": {
      "image/png": "[encoded data removed]",
      "text/plain": [
       "<Figure size 432x288 with 10 Axes>"
      ]
     },
     "metadata": {
      "needs_background": "light"
     },
     "output_type": "display_data"
    }
   ],
   "source": [
    "import sklearn.datasets\n",
    "\n",
    "# We load the dataset\n",
    "digits = sklearn.datasets.load_digits()\n",
    "\n",
    "# Here we load up the images and labels and print some examples\n",
    "images_and_labels = list(zip(digits.images, digits.target))\n",
    "for index, (image, label) in enumerate(images_and_labels[:10]):\n",
    "    plt.subplot(2, 5, index + 1)\n",
    "    plt.axis('off')\n",
    "    plt.imshow(image, cmap='gray_r', interpolation='nearest')\n",
    "    plt.title('Training: {}'.format(label), y=1.1)"
   ]
  },
  {
   "cell_type": "markdown",
   "metadata": {},
   "source": [
    "Next we will divide the images and labels data into two parts i.e. training data and test data."
   ]
  },
  {
   "cell_type": "code",
   "execution_count": 83,
   "metadata": {},
   "outputs": [],
   "source": [
    "n_objects = digits.images.shape[0]\n",
    "train_test_split = 0.7\n",
    "train_size = int(n_objects * train_test_split)\n",
    "indices = np.arange(n_objects)\n",
    "np.random.shuffle(indices)\n",
    "\n",
    "train_indices, test_indices = indices[:train_size], indices[train_size:]\n",
    "train_images, train_targets = digits.images[train_indices], digits.target[train_indices]\n",
    "test_images, test_targets = digits.images[test_indices], digits.target[test_indices]"
   ]
  },
  {
   "cell_type": "code",
   "execution_count": 84,
   "metadata": {},
   "outputs": [
    {
     "data": {
      "text/plain": [
       "<matplotlib.image.AxesImage at 0x7f99d6ce3048>"
      ]
     },
     "execution_count": 84,
     "metadata": {},
     "output_type": "execute_result"
    },
    {
     "data": {
      "image/png": "[encoded data removed]",
      "text/plain": [
       "<Figure size 432x288 with 1 Axes>"
      ]
     },
     "metadata": {
      "needs_background": "light"
     },
     "output_type": "display_data"
    }
   ],
   "source": [
    "plt.imshow(train_images[0], cmap='gray_r')"
   ]
  },
  {
   "cell_type": "markdown",
   "metadata": {},
   "source": [
    "The images in the dataset are $8 \\times 8$ and each pixels in the image is an integer between ranging from 0 to 16. Before giving the images as input to the neural network we will reshape them to a 1-dimensional vector of 64 features as shown in the figure below.\n",
    "![in](./src/image_pixel_input.png)"
   ]
  },
  {
   "cell_type": "code",
   "execution_count": 85,
   "metadata": {},
   "outputs": [],
   "source": [
    "train_images = train_images.reshape((-1, 64))\n",
    "test_images = test_images.reshape((-1, 64))\n",
    "\n",
    "train_targets = train_targets.reshape(-1, 1)\n",
    "test_targets = test_targets.reshape(-1, 1)"
   ]
  },
  {
   "cell_type": "markdown",
   "metadata": {},
   "source": [
    "The basic units of the neural network are perceptrons. A perceptron consists of a cell with atleast two inputs. The cell takes the inputs multiplied with weights and gives an output after computing the values. The basic diagram of a cell is shown below.\n",
    "![neuron](./src/neuron.png)\n",
    "For the image dataset which we will be using in this task the perceptron will have 64 inputs and 64 weights.\n",
    "![N_weights](./src/weights.png)\n",
    "As the digits dataset consists of 10 classes (0 to 9), in order to classifiy the images we will need 10 neurons for the prediction of the target class as shown in the image below. Each neuron will give an output and the output from the neuron with the highest value will be selected and that will be the predicted class.\n",
    "![NN](./src/design.png)\n",
    "Now, in order to perform classification for images you will use the functions which you implemented before."
   ]
  },
  {
   "cell_type": "markdown",
   "metadata": {},
   "source": [
    "In the following lines of code we will train a complete Neural Network by giving the images as input and the labels as targets to the network. At first we will design the network by setting the parameters of the network by calling the *SequentialNN()* function. After that, we will forward propagate the inputs through the network and calculate the loss, the error between the predicted output and the target output. This loss will then be back propagated through the network. Finally the parameters of the network will be updated in the right direction to reduce the error of the prediction."
   ]
  },
  {
   "cell_type": "code",
   "execution_count": null,
   "metadata": {},
   "outputs": [],
   "source": [
    "### YOUR CODE FOR TRAINING THE NETWORK###\n",
    "\n",
    "#Specify the input size for the network\n",
    "#specify the output size for the network\n",
    "#specify the inputs for the network\n",
    "#specify the outputs for the network\n",
    "num_input = None\n",
    "num_output = None\n",
    "X = None\n",
    "Y = None\n",
    "\n",
    "model = SequentialNN()\n",
    "# model.add(...)\n",
    "# model.add(...)\n",
    "# etc...\n",
    "\n",
    "loss = Hinge()\n",
    "weight_decay = 0.01\n",
    "sgd = SGD(model, lr=0.01, weight_decay=weight_decay)\n",
    "model.set_training_phase(True)\n",
    "\n",
    "for i in range(100):\n",
    "    # get the predictions\n",
    "    y_pred = model.forward(X)\n",
    "    \n",
    "    # compute the loss value + L_2 term\n",
    "    loss_value = loss.forward(y_pred, Y) + l2_regularizer(weight_decay, model.get_params())\n",
    "    \n",
    "    # log the current loss value\n",
    "    print('Step: {}, \\tLoss = {:.2f}'.format(i+1, loss_value))\n",
    "    \n",
    "    # get the gradient of the loss functions\n",
    "    loss_grad = loss.backward(y_pred, Y)\n",
    "    # backprop the gradients\n",
    "    model.backward(X, loss_grad)\n",
    "    \n",
    "    # perform the updates\n",
    "    sgd.update_params()"
   ]
  },
  {
   "cell_type": "markdown",
   "metadata": {},
   "source": [
    "After training the network should be tested on test data; images in this task. During the test time unlabeled inputs are given to the network and by using the trained weights from the training cycle of the network the ouput classes for the unlabeled inputs are predicted. The figure below shows the difference between the training and the testing of the network.\n",
    "![test](./src/Test.PNG)\n",
    "In the following cell implement the code for testing the network. "
   ]
  },
  {
   "cell_type": "code",
   "execution_count": null,
   "metadata": {},
   "outputs": [],
   "source": [
    "#Testing the network \n",
    "###YOUR CODE FOR TESTING THE NETWORK  ###"
   ]
  },
  {
   "cell_type": "markdown",
   "metadata": {},
   "source": [
    "For further practice and advanced experiments you can use MNIST dataset for the classification of hand written digits. It is a commonly used image dataset for testing machine learning algorithms. You can load this dataset by using the code from the file *data_utils* in week_1 folder. "
   ]
  },
  {
   "cell_type": "code",
   "execution_count": null,
   "metadata": {},
   "outputs": [],
   "source": []
  },
  {
   "cell_type": "code",
   "execution_count": null,
   "metadata": {},
   "outputs": [],
   "source": []
  },
  {
   "cell_type": "code",
   "execution_count": null,
   "metadata": {},
   "outputs": [],
   "source": []
  },
  {
   "cell_type": "code",
   "execution_count": null,
   "metadata": {},
   "outputs": [],
   "source": [
    "am.get_progress(username)"
   ]
  },
  {
   "cell_type": "code",
   "execution_count": null,
   "metadata": {},
   "outputs": [],
   "source": []
  }
 ],
 "metadata": {
  "kernelspec": {
   "display_name": "Python 3",
   "language": "python",
   "name": "python3"
  },
  "language_info": {
   "codemirror_mode": {
    "name": "ipython",
    "version": 3
   },
   "file_extension": ".py",
   "mimetype": "text/x-python",
   "name": "python",
   "nbconvert_exporter": "python",
   "pygments_lexer": "ipython3",
   "version": "3.7.0"
  }
 },
 "nbformat": 4,
 "nbformat_minor": 2
}
